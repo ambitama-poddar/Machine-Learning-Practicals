{
  "nbformat": 4,
  "nbformat_minor": 0,
  "metadata": {
    "colab": {
      "provenance": [],
      "authorship_tag": "ABX9TyNlcChD13AcDm5n1sLLZvcM",
      "include_colab_link": true
    },
    "kernelspec": {
      "name": "python3",
      "display_name": "Python 3"
    },
    "language_info": {
      "name": "python"
    }
  },
  "cells": [
    {
      "cell_type": "markdown",
      "metadata": {
        "id": "view-in-github",
        "colab_type": "text"
      },
      "source": [
        "<a href=\"https://colab.research.google.com/github/ambitama-poddar/Machine-Learning-Practicals/blob/main/DA_2.ipynb\" target=\"_parent\"><img src=\"https://colab.research.google.com/assets/colab-badge.svg\" alt=\"Open In Colab\"/></a>"
      ]
    },
    {
      "cell_type": "markdown",
      "source": [
        "##**-Submitted by Ambitama Poddar(22MCA0106)**\n",
        "\n",
        "##**Digital Assessment-2**"
      ],
      "metadata": {
        "id": "QWT10lWYcOVT"
      }
    },
    {
      "cell_type": "markdown",
      "source": [
        "##**1a. NAND gate simulation**"
      ],
      "metadata": {
        "id": "PrJtnRReccTf"
      }
    },
    {
      "cell_type": "code",
      "source": [
        "import tensorflow as tf\n",
        "import numpy as np"
      ],
      "metadata": {
        "id": "9hx0OuTucg-O"
      },
      "execution_count": 85,
      "outputs": []
    },
    {
      "cell_type": "code",
      "source": [
        "X1=tf.Variable(initial_value=[0.,1.,0.,1.])\n",
        "X2=tf.Variable(initial_value=[0.,0.,1.,1.])\n",
        "Y_NAND=tf.Variable(initial_value=[1.,1.,1.,0.])"
      ],
      "metadata": {
        "id": "1UCDsw08cjQi"
      },
      "execution_count": 86,
      "outputs": []
    },
    {
      "cell_type": "code",
      "source": [
        "#Defining the model\n",
        "class Model(object):\n",
        "\n",
        "   def __init__(self):\n",
        "        self.W1 = tf.Variable(initial_value=tf.random.normal([1]))\n",
        "        self.W2 = tf.Variable(initial_value=tf.random.normal([1]))\n",
        "        self.b = tf.Variable(initial_value=tf.random.normal([1]))\n",
        "\n",
        "   def __call__(self, x1,x2):\n",
        "        self.K1=self.W1 * x1 + self.W2 * x2 + self.b\n",
        "        self.Output = tf.keras.activations.sigmoid(self.K1)\n",
        "        return(self.Output)\n",
        "\n",
        "model=Model()"
      ],
      "metadata": {
        "id": "Xu39OzTyclMD"
      },
      "execution_count": 87,
      "outputs": []
    },
    {
      "cell_type": "code",
      "source": [
        "#Cost function\n",
        "def compute_cost(target_y, predicted_y):\n",
        "    c=tf.keras.losses.BinaryCrossentropy()\n",
        "    return(c(target_y,predicted_y))"
      ],
      "metadata": {
        "id": "2-QI6kyZcnRJ"
      },
      "execution_count": 88,
      "outputs": []
    },
    {
      "cell_type": "code",
      "source": [
        "def None_to_Zero(v):\n",
        "    if v==None:\n",
        "        v=0\n",
        "    return v"
      ],
      "metadata": {
        "id": "mJrf_LqHcpgT"
      },
      "execution_count": 89,
      "outputs": []
    },
    {
      "cell_type": "code",
      "source": [
        "def train(model, X1, X2, Y2, learning_rate):\n",
        "    with tf.GradientTape() as t:\n",
        "        current_loss = compute_cost(Y2, model(X1, X2))\n",
        "    dW1, dW2, db = t.gradient(current_loss, [model.W1, model.W2, model.b])\n",
        "    dW1 = None_to_Zero(dW1)\n",
        "    db = None_to_Zero(db)\n",
        "    dW2 = None_to_Zero(dW2)\n",
        "    model.W1.assign_sub(learning_rate * dW1)\n",
        "    model.b.assign_sub(learning_rate * db)\n",
        "    model.W2.assign_sub(learning_rate * dW2)"
      ],
      "metadata": {
        "id": "7BeFl9DRcrll"
      },
      "execution_count": 90,
      "outputs": []
    },
    {
      "cell_type": "code",
      "source": [
        "epochs = range(1000)\n",
        "learning_rate = 0.1\n",
        "for epoch in epochs:\n",
        "    train(model, X1, X2, Y_NAND, learning_rate)\n",
        "\n",
        "# Once the training is done we can find results by calling the Model Class object as\n",
        "print(np.round(model(X1, X2).numpy()))"
      ],
      "metadata": {
        "colab": {
          "base_uri": "https://localhost:8080/"
        },
        "id": "y5Z6Ddbscu98",
        "outputId": "80c8edc0-9490-4848-c76a-b9898ece7e10"
      },
      "execution_count": 91,
      "outputs": [
        {
          "output_type": "stream",
          "name": "stdout",
          "text": [
            "[1. 1. 1. 0.]\n"
          ]
        }
      ]
    },
    {
      "cell_type": "code",
      "source": [
        "W_NAND = {'W1': round(model.W1.numpy()[0], 6),\n",
        "          'W2': round(model.W2.numpy()[0], 6),\n",
        "          'b': round(model.b.numpy()[0], 6)}"
      ],
      "metadata": {
        "id": "i2BhVzYIcykh"
      },
      "execution_count": 92,
      "outputs": []
    },
    {
      "cell_type": "code",
      "source": [
        "W_NAND"
      ],
      "metadata": {
        "colab": {
          "base_uri": "https://localhost:8080/"
        },
        "id": "DmDbs4nvc29O",
        "outputId": "2ef45d34-1aed-4147-fe0e-e725552954fb"
      },
      "execution_count": 93,
      "outputs": [
        {
          "output_type": "execute_result",
          "data": {
            "text/plain": [
              "{'W1': -3.427582, 'W2': -3.409801, 'b': 5.334832}"
            ]
          },
          "metadata": {},
          "execution_count": 93
        }
      ]
    },
    {
      "cell_type": "markdown",
      "source": [
        "##**1b. Three input AND gate simulation**"
      ],
      "metadata": {
        "id": "EfzPnrAKc7vN"
      }
    },
    {
      "cell_type": "code",
      "source": [
        "X1 = tf.Variable(initial_value=[0., 0., 0., 0., 1., 1., 1., 1.])\n",
        "X2 = tf.Variable(initial_value=[0., 0., 1., 1., 0., 0., 1., 1.])\n",
        "X3 = tf.Variable(initial_value=[0., 1., 0., 1., 0., 1., 0., 1.])\n",
        "Y_AND = tf.Variable(initial_value=[0., 0., 0., 0., 0., 0., 0., 1.])"
      ],
      "metadata": {
        "id": "ichn6vYPdGuP"
      },
      "execution_count": 94,
      "outputs": []
    },
    {
      "cell_type": "code",
      "source": [
        "class Model(object):\n",
        "    def __init__(self):\n",
        "        self.W1 = tf.Variable(initial_value=tf.random.normal([1]))\n",
        "        self.W2 = tf.Variable(initial_value=tf.random.normal([1]))\n",
        "        self.W3 = tf.Variable(initial_value=tf.random.normal([1]))\n",
        "        self.b = tf.Variable(initial_value=tf.random.normal([1]))\n",
        "\n",
        "    def __call__(self, x1, x2, x3):\n",
        "        self.K1 = self.W1 * x1 + self.W2 * x2 + self.W3 * x3 + self.b\n",
        "        self.Output = tf.keras.activations.sigmoid(self.K1)\n",
        "        return self.Output\n",
        "\n",
        "\n",
        "model = Model()"
      ],
      "metadata": {
        "id": "fR1IniOOdMg6"
      },
      "execution_count": 95,
      "outputs": []
    },
    {
      "cell_type": "code",
      "source": [
        "def compute_cost(target_y, predicted_y):\n",
        "    c = tf.keras.losses.BinaryCrossentropy()\n",
        "    return c(target_y, predicted_y)"
      ],
      "metadata": {
        "id": "QgM0J_u6dP3T"
      },
      "execution_count": 96,
      "outputs": []
    },
    {
      "cell_type": "code",
      "source": [
        "def None_to_Zero(v):\n",
        "    if v == None:\n",
        "        v = 0\n",
        "    return v"
      ],
      "metadata": {
        "id": "iowb9Q2PdQy_"
      },
      "execution_count": 97,
      "outputs": []
    },
    {
      "cell_type": "code",
      "source": [
        "def train(model, X1, X2, X3, Y, learning_rate):\n",
        "    with tf.GradientTape() as t:\n",
        "        current_loss = compute_cost(Y, model(X1, X2, X3))\n",
        "    dW1, dW2, dW3, db = t.gradient(current_loss, [model.W1, model.W2, model.W3, model.b])\n",
        "    dW1 = None_to_Zero(dW1)\n",
        "    dW2 = None_to_Zero(dW2)\n",
        "    dW3 = None_to_Zero(dW3)\n",
        "    db = None_to_Zero(db)\n",
        "    model.W1.assign_sub(learning_rate * dW1)\n",
        "    model.W2.assign_sub(learning_rate * dW2)\n",
        "    model.W3.assign_sub(learning_rate * dW3)\n",
        "    model.b.assign_sub(learning_rate * db)"
      ],
      "metadata": {
        "id": "vyteLTSCdS-o"
      },
      "execution_count": 98,
      "outputs": []
    },
    {
      "cell_type": "code",
      "source": [
        "epochs = range(1000)\n",
        "learning_rate = 0.1\n",
        "for epoch in epochs:\n",
        "    train(model, X1, X2, X3, Y_AND, learning_rate)\n",
        "\n",
        "# Once the training is done we can find results by calling the Model Class object as\n",
        "print(np.round(model(X1, X2, X3).numpy()))"
      ],
      "metadata": {
        "colab": {
          "base_uri": "https://localhost:8080/"
        },
        "id": "6jJIJDM7dU9t",
        "outputId": "23243ae1-5bc5-43fb-c0a3-e51235c80f64"
      },
      "execution_count": 99,
      "outputs": [
        {
          "output_type": "stream",
          "name": "stdout",
          "text": [
            "[0. 0. 0. 0. 0. 0. 0. 1.]\n"
          ]
        }
      ]
    },
    {
      "cell_type": "code",
      "source": [
        "W_AND = {'W1': round(model.W1.numpy()[0], 6),\n",
        "          'W2': round(model.W2.numpy()[0], 6),\n",
        "          'W3': round(model.W2.numpy()[0], 6),\n",
        "          'b': round(model.b.numpy()[0], 6)}"
      ],
      "metadata": {
        "id": "0C_SaUNKdYwo"
      },
      "execution_count": 100,
      "outputs": []
    },
    {
      "cell_type": "code",
      "source": [
        "W_AND"
      ],
      "metadata": {
        "colab": {
          "base_uri": "https://localhost:8080/"
        },
        "id": "XoaB6rYcdbz6",
        "outputId": "e157e6de-1cdb-44f1-b674-0337c0ff691c"
      },
      "execution_count": 101,
      "outputs": [
        {
          "output_type": "execute_result",
          "data": {
            "text/plain": [
              "{'W1': 1.87032, 'W2': 1.759538, 'W3': 1.759538, 'b': -5.085274}"
            ]
          },
          "metadata": {},
          "execution_count": 101
        }
      ]
    },
    {
      "cell_type": "markdown",
      "source": [
        "#**2. Implementing a neural network model to classify the Penguin Species dataset**"
      ],
      "metadata": {
        "id": "nrTaXFIubFOH"
      }
    },
    {
      "cell_type": "code",
      "execution_count": 66,
      "metadata": {
        "id": "FKsBQ0zmYpSW"
      },
      "outputs": [],
      "source": [
        "import pandas as pd\n",
        "import numpy as np\n",
        "import os\n",
        "\n",
        "# Plotting libraries\n",
        "import matplotlib.pyplot as plt\n",
        "\n",
        "# SKLearn libraries\n",
        "from sklearn.preprocessing import LabelEncoder\n",
        "from sklearn.model_selection import train_test_split\n",
        "\n",
        "# Tensorflow libraries\n",
        "import tensorflow as tf\n",
        "from tensorflow import keras\n",
        "from tensorflow.keras.models import Sequential\n",
        "from tensorflow.keras.layers import BatchNormalization"
      ]
    },
    {
      "cell_type": "code",
      "source": [
        "# Data file path\n",
        "FILE_PATH = 'penguins_size.csv'"
      ],
      "metadata": {
        "id": "8lVJM7kZYwOq"
      },
      "execution_count": 67,
      "outputs": []
    },
    {
      "cell_type": "code",
      "source": [
        "# Dataframe from csv file\n",
        "penguins_data = pd.read_csv(FILE_PATH)"
      ],
      "metadata": {
        "id": "luCCxTyAY7n5"
      },
      "execution_count": 68,
      "outputs": []
    },
    {
      "cell_type": "markdown",
      "source": [
        "##Preprocessing"
      ],
      "metadata": {
        "id": "bcAwWfJBbepN"
      }
    },
    {
      "cell_type": "code",
      "source": [
        "penguins_data.info()"
      ],
      "metadata": {
        "colab": {
          "base_uri": "https://localhost:8080/"
        },
        "id": "FJ4JBqUQY98u",
        "outputId": "779fd1d5-2d83-4f56-9192-bc2b4a5b08ef"
      },
      "execution_count": 69,
      "outputs": [
        {
          "output_type": "stream",
          "name": "stdout",
          "text": [
            "<class 'pandas.core.frame.DataFrame'>\n",
            "RangeIndex: 344 entries, 0 to 343\n",
            "Data columns (total 7 columns):\n",
            " #   Column             Non-Null Count  Dtype  \n",
            "---  ------             --------------  -----  \n",
            " 0   species            344 non-null    object \n",
            " 1   island             344 non-null    object \n",
            " 2   culmen_length_mm   342 non-null    float64\n",
            " 3   culmen_depth_mm    342 non-null    float64\n",
            " 4   flipper_length_mm  342 non-null    float64\n",
            " 5   body_mass_g        342 non-null    float64\n",
            " 6   sex                334 non-null    object \n",
            "dtypes: float64(4), object(3)\n",
            "memory usage: 18.9+ KB\n"
          ]
        }
      ]
    },
    {
      "cell_type": "code",
      "source": [
        "penguins_data.head(10)"
      ],
      "metadata": {
        "colab": {
          "base_uri": "https://localhost:8080/",
          "height": 363
        },
        "id": "TCjOs5H1ZBi-",
        "outputId": "6c1c2e2a-c7e3-4cd2-be89-0df9392d1b49"
      },
      "execution_count": 70,
      "outputs": [
        {
          "output_type": "execute_result",
          "data": {
            "text/plain": [
              "  species     island  culmen_length_mm  culmen_depth_mm  flipper_length_mm  \\\n",
              "0  Adelie  Torgersen              39.1             18.7              181.0   \n",
              "1  Adelie  Torgersen              39.5             17.4              186.0   \n",
              "2  Adelie  Torgersen              40.3             18.0              195.0   \n",
              "3  Adelie  Torgersen               NaN              NaN                NaN   \n",
              "4  Adelie  Torgersen              36.7             19.3              193.0   \n",
              "5  Adelie  Torgersen              39.3             20.6              190.0   \n",
              "6  Adelie  Torgersen              38.9             17.8              181.0   \n",
              "7  Adelie  Torgersen              39.2             19.6              195.0   \n",
              "8  Adelie  Torgersen              34.1             18.1              193.0   \n",
              "9  Adelie  Torgersen              42.0             20.2              190.0   \n",
              "\n",
              "   body_mass_g     sex  \n",
              "0       3750.0    MALE  \n",
              "1       3800.0  FEMALE  \n",
              "2       3250.0  FEMALE  \n",
              "3          NaN     NaN  \n",
              "4       3450.0  FEMALE  \n",
              "5       3650.0    MALE  \n",
              "6       3625.0  FEMALE  \n",
              "7       4675.0    MALE  \n",
              "8       3475.0     NaN  \n",
              "9       4250.0     NaN  "
            ],
            "text/html": [
              "\n",
              "\n",
              "  <div id=\"df-3a22b136-fced-41dc-8b77-013fea42adf0\">\n",
              "    <div class=\"colab-df-container\">\n",
              "      <div>\n",
              "<style scoped>\n",
              "    .dataframe tbody tr th:only-of-type {\n",
              "        vertical-align: middle;\n",
              "    }\n",
              "\n",
              "    .dataframe tbody tr th {\n",
              "        vertical-align: top;\n",
              "    }\n",
              "\n",
              "    .dataframe thead th {\n",
              "        text-align: right;\n",
              "    }\n",
              "</style>\n",
              "<table border=\"1\" class=\"dataframe\">\n",
              "  <thead>\n",
              "    <tr style=\"text-align: right;\">\n",
              "      <th></th>\n",
              "      <th>species</th>\n",
              "      <th>island</th>\n",
              "      <th>culmen_length_mm</th>\n",
              "      <th>culmen_depth_mm</th>\n",
              "      <th>flipper_length_mm</th>\n",
              "      <th>body_mass_g</th>\n",
              "      <th>sex</th>\n",
              "    </tr>\n",
              "  </thead>\n",
              "  <tbody>\n",
              "    <tr>\n",
              "      <th>0</th>\n",
              "      <td>Adelie</td>\n",
              "      <td>Torgersen</td>\n",
              "      <td>39.1</td>\n",
              "      <td>18.7</td>\n",
              "      <td>181.0</td>\n",
              "      <td>3750.0</td>\n",
              "      <td>MALE</td>\n",
              "    </tr>\n",
              "    <tr>\n",
              "      <th>1</th>\n",
              "      <td>Adelie</td>\n",
              "      <td>Torgersen</td>\n",
              "      <td>39.5</td>\n",
              "      <td>17.4</td>\n",
              "      <td>186.0</td>\n",
              "      <td>3800.0</td>\n",
              "      <td>FEMALE</td>\n",
              "    </tr>\n",
              "    <tr>\n",
              "      <th>2</th>\n",
              "      <td>Adelie</td>\n",
              "      <td>Torgersen</td>\n",
              "      <td>40.3</td>\n",
              "      <td>18.0</td>\n",
              "      <td>195.0</td>\n",
              "      <td>3250.0</td>\n",
              "      <td>FEMALE</td>\n",
              "    </tr>\n",
              "    <tr>\n",
              "      <th>3</th>\n",
              "      <td>Adelie</td>\n",
              "      <td>Torgersen</td>\n",
              "      <td>NaN</td>\n",
              "      <td>NaN</td>\n",
              "      <td>NaN</td>\n",
              "      <td>NaN</td>\n",
              "      <td>NaN</td>\n",
              "    </tr>\n",
              "    <tr>\n",
              "      <th>4</th>\n",
              "      <td>Adelie</td>\n",
              "      <td>Torgersen</td>\n",
              "      <td>36.7</td>\n",
              "      <td>19.3</td>\n",
              "      <td>193.0</td>\n",
              "      <td>3450.0</td>\n",
              "      <td>FEMALE</td>\n",
              "    </tr>\n",
              "    <tr>\n",
              "      <th>5</th>\n",
              "      <td>Adelie</td>\n",
              "      <td>Torgersen</td>\n",
              "      <td>39.3</td>\n",
              "      <td>20.6</td>\n",
              "      <td>190.0</td>\n",
              "      <td>3650.0</td>\n",
              "      <td>MALE</td>\n",
              "    </tr>\n",
              "    <tr>\n",
              "      <th>6</th>\n",
              "      <td>Adelie</td>\n",
              "      <td>Torgersen</td>\n",
              "      <td>38.9</td>\n",
              "      <td>17.8</td>\n",
              "      <td>181.0</td>\n",
              "      <td>3625.0</td>\n",
              "      <td>FEMALE</td>\n",
              "    </tr>\n",
              "    <tr>\n",
              "      <th>7</th>\n",
              "      <td>Adelie</td>\n",
              "      <td>Torgersen</td>\n",
              "      <td>39.2</td>\n",
              "      <td>19.6</td>\n",
              "      <td>195.0</td>\n",
              "      <td>4675.0</td>\n",
              "      <td>MALE</td>\n",
              "    </tr>\n",
              "    <tr>\n",
              "      <th>8</th>\n",
              "      <td>Adelie</td>\n",
              "      <td>Torgersen</td>\n",
              "      <td>34.1</td>\n",
              "      <td>18.1</td>\n",
              "      <td>193.0</td>\n",
              "      <td>3475.0</td>\n",
              "      <td>NaN</td>\n",
              "    </tr>\n",
              "    <tr>\n",
              "      <th>9</th>\n",
              "      <td>Adelie</td>\n",
              "      <td>Torgersen</td>\n",
              "      <td>42.0</td>\n",
              "      <td>20.2</td>\n",
              "      <td>190.0</td>\n",
              "      <td>4250.0</td>\n",
              "      <td>NaN</td>\n",
              "    </tr>\n",
              "  </tbody>\n",
              "</table>\n",
              "</div>\n",
              "      <button class=\"colab-df-convert\" onclick=\"convertToInteractive('df-3a22b136-fced-41dc-8b77-013fea42adf0')\"\n",
              "              title=\"Convert this dataframe to an interactive table.\"\n",
              "              style=\"display:none;\">\n",
              "\n",
              "  <svg xmlns=\"http://www.w3.org/2000/svg\" height=\"24px\"viewBox=\"0 0 24 24\"\n",
              "       width=\"24px\">\n",
              "    <path d=\"M0 0h24v24H0V0z\" fill=\"none\"/>\n",
              "    <path d=\"M18.56 5.44l.94 2.06.94-2.06 2.06-.94-2.06-.94-.94-2.06-.94 2.06-2.06.94zm-11 1L8.5 8.5l.94-2.06 2.06-.94-2.06-.94L8.5 2.5l-.94 2.06-2.06.94zm10 10l.94 2.06.94-2.06 2.06-.94-2.06-.94-.94-2.06-.94 2.06-2.06.94z\"/><path d=\"M17.41 7.96l-1.37-1.37c-.4-.4-.92-.59-1.43-.59-.52 0-1.04.2-1.43.59L10.3 9.45l-7.72 7.72c-.78.78-.78 2.05 0 2.83L4 21.41c.39.39.9.59 1.41.59.51 0 1.02-.2 1.41-.59l7.78-7.78 2.81-2.81c.8-.78.8-2.07 0-2.86zM5.41 20L4 18.59l7.72-7.72 1.47 1.35L5.41 20z\"/>\n",
              "  </svg>\n",
              "      </button>\n",
              "\n",
              "\n",
              "\n",
              "    <div id=\"df-59875f36-210f-4a92-b86b-934cd768348a\">\n",
              "      <button class=\"colab-df-quickchart\" onclick=\"quickchart('df-59875f36-210f-4a92-b86b-934cd768348a')\"\n",
              "              title=\"Suggest charts.\"\n",
              "              style=\"display:none;\">\n",
              "\n",
              "<svg xmlns=\"http://www.w3.org/2000/svg\" height=\"24px\"viewBox=\"0 0 24 24\"\n",
              "     width=\"24px\">\n",
              "    <g>\n",
              "        <path d=\"M19 3H5c-1.1 0-2 .9-2 2v14c0 1.1.9 2 2 2h14c1.1 0 2-.9 2-2V5c0-1.1-.9-2-2-2zM9 17H7v-7h2v7zm4 0h-2V7h2v10zm4 0h-2v-4h2v4z\"/>\n",
              "    </g>\n",
              "</svg>\n",
              "      </button>\n",
              "    </div>\n",
              "\n",
              "<style>\n",
              "  .colab-df-quickchart {\n",
              "    background-color: #E8F0FE;\n",
              "    border: none;\n",
              "    border-radius: 50%;\n",
              "    cursor: pointer;\n",
              "    display: none;\n",
              "    fill: #1967D2;\n",
              "    height: 32px;\n",
              "    padding: 0 0 0 0;\n",
              "    width: 32px;\n",
              "  }\n",
              "\n",
              "  .colab-df-quickchart:hover {\n",
              "    background-color: #E2EBFA;\n",
              "    box-shadow: 0px 1px 2px rgba(60, 64, 67, 0.3), 0px 1px 3px 1px rgba(60, 64, 67, 0.15);\n",
              "    fill: #174EA6;\n",
              "  }\n",
              "\n",
              "  [theme=dark] .colab-df-quickchart {\n",
              "    background-color: #3B4455;\n",
              "    fill: #D2E3FC;\n",
              "  }\n",
              "\n",
              "  [theme=dark] .colab-df-quickchart:hover {\n",
              "    background-color: #434B5C;\n",
              "    box-shadow: 0px 1px 3px 1px rgba(0, 0, 0, 0.15);\n",
              "    filter: drop-shadow(0px 1px 2px rgba(0, 0, 0, 0.3));\n",
              "    fill: #FFFFFF;\n",
              "  }\n",
              "</style>\n",
              "\n",
              "    <script>\n",
              "      async function quickchart(key) {\n",
              "        const containerElement = document.querySelector('#' + key);\n",
              "        const charts = await google.colab.kernel.invokeFunction(\n",
              "            'suggestCharts', [key], {});\n",
              "      }\n",
              "    </script>\n",
              "\n",
              "      <script>\n",
              "\n",
              "function displayQuickchartButton(domScope) {\n",
              "  let quickchartButtonEl =\n",
              "    domScope.querySelector('#df-59875f36-210f-4a92-b86b-934cd768348a button.colab-df-quickchart');\n",
              "  quickchartButtonEl.style.display =\n",
              "    google.colab.kernel.accessAllowed ? 'block' : 'none';\n",
              "}\n",
              "\n",
              "        displayQuickchartButton(document);\n",
              "      </script>\n",
              "      <style>\n",
              "    .colab-df-container {\n",
              "      display:flex;\n",
              "      flex-wrap:wrap;\n",
              "      gap: 12px;\n",
              "    }\n",
              "\n",
              "    .colab-df-convert {\n",
              "      background-color: #E8F0FE;\n",
              "      border: none;\n",
              "      border-radius: 50%;\n",
              "      cursor: pointer;\n",
              "      display: none;\n",
              "      fill: #1967D2;\n",
              "      height: 32px;\n",
              "      padding: 0 0 0 0;\n",
              "      width: 32px;\n",
              "    }\n",
              "\n",
              "    .colab-df-convert:hover {\n",
              "      background-color: #E2EBFA;\n",
              "      box-shadow: 0px 1px 2px rgba(60, 64, 67, 0.3), 0px 1px 3px 1px rgba(60, 64, 67, 0.15);\n",
              "      fill: #174EA6;\n",
              "    }\n",
              "\n",
              "    [theme=dark] .colab-df-convert {\n",
              "      background-color: #3B4455;\n",
              "      fill: #D2E3FC;\n",
              "    }\n",
              "\n",
              "    [theme=dark] .colab-df-convert:hover {\n",
              "      background-color: #434B5C;\n",
              "      box-shadow: 0px 1px 3px 1px rgba(0, 0, 0, 0.15);\n",
              "      filter: drop-shadow(0px 1px 2px rgba(0, 0, 0, 0.3));\n",
              "      fill: #FFFFFF;\n",
              "    }\n",
              "  </style>\n",
              "\n",
              "      <script>\n",
              "        const buttonEl =\n",
              "          document.querySelector('#df-3a22b136-fced-41dc-8b77-013fea42adf0 button.colab-df-convert');\n",
              "        buttonEl.style.display =\n",
              "          google.colab.kernel.accessAllowed ? 'block' : 'none';\n",
              "\n",
              "        async function convertToInteractive(key) {\n",
              "          const element = document.querySelector('#df-3a22b136-fced-41dc-8b77-013fea42adf0');\n",
              "          const dataTable =\n",
              "            await google.colab.kernel.invokeFunction('convertToInteractive',\n",
              "                                                     [key], {});\n",
              "          if (!dataTable) return;\n",
              "\n",
              "          const docLinkHtml = 'Like what you see? Visit the ' +\n",
              "            '<a target=\"_blank\" href=https://colab.research.google.com/notebooks/data_table.ipynb>data table notebook</a>'\n",
              "            + ' to learn more about interactive tables.';\n",
              "          element.innerHTML = '';\n",
              "          dataTable['output_type'] = 'display_data';\n",
              "          await google.colab.output.renderOutput(dataTable, element);\n",
              "          const docLink = document.createElement('div');\n",
              "          docLink.innerHTML = docLinkHtml;\n",
              "          element.appendChild(docLink);\n",
              "        }\n",
              "      </script>\n",
              "    </div>\n",
              "  </div>\n"
            ]
          },
          "metadata": {},
          "execution_count": 70
        }
      ]
    },
    {
      "cell_type": "code",
      "source": [
        "penguins_data = penguins_data.dropna()\n",
        "penguins_data = penguins_data[penguins_data['sex'] != '.']"
      ],
      "metadata": {
        "id": "1r925BjVZDDB"
      },
      "execution_count": 71,
      "outputs": []
    },
    {
      "cell_type": "code",
      "source": [
        "penguins_data.isna().any()"
      ],
      "metadata": {
        "colab": {
          "base_uri": "https://localhost:8080/"
        },
        "id": "iRKdeUfKZFrw",
        "outputId": "5fb34ead-f24d-422a-b864-307ffcb41dbb"
      },
      "execution_count": 72,
      "outputs": [
        {
          "output_type": "execute_result",
          "data": {
            "text/plain": [
              "species              False\n",
              "island               False\n",
              "culmen_length_mm     False\n",
              "culmen_depth_mm      False\n",
              "flipper_length_mm    False\n",
              "body_mass_g          False\n",
              "sex                  False\n",
              "dtype: bool"
            ]
          },
          "metadata": {},
          "execution_count": 72
        }
      ]
    },
    {
      "cell_type": "markdown",
      "source": [
        "##Preparing Dataset"
      ],
      "metadata": {
        "id": "R3Js8A5hbkNh"
      }
    },
    {
      "cell_type": "code",
      "source": [
        "penguins_data#One hot encoding\n",
        "one_hot_encoded = pd.get_dummies(penguins_data[['sex', 'island']])\n",
        "penguins_data.drop(['island', 'sex'], axis=1, inplace=True)\n",
        "penguins_data = pd.concat([penguins_data, one_hot_encoded], axis=1)\n",
        "penguins_data"
      ],
      "metadata": {
        "colab": {
          "base_uri": "https://localhost:8080/",
          "height": 423
        },
        "id": "H9nqQ0lOZV9R",
        "outputId": "157d2203-f066-4109-d714-68e8143e929a"
      },
      "execution_count": 73,
      "outputs": [
        {
          "output_type": "execute_result",
          "data": {
            "text/plain": [
              "    species  culmen_length_mm  culmen_depth_mm  flipper_length_mm  \\\n",
              "0    Adelie              39.1             18.7              181.0   \n",
              "1    Adelie              39.5             17.4              186.0   \n",
              "2    Adelie              40.3             18.0              195.0   \n",
              "4    Adelie              36.7             19.3              193.0   \n",
              "5    Adelie              39.3             20.6              190.0   \n",
              "..      ...               ...              ...                ...   \n",
              "338  Gentoo              47.2             13.7              214.0   \n",
              "340  Gentoo              46.8             14.3              215.0   \n",
              "341  Gentoo              50.4             15.7              222.0   \n",
              "342  Gentoo              45.2             14.8              212.0   \n",
              "343  Gentoo              49.9             16.1              213.0   \n",
              "\n",
              "     body_mass_g  sex_FEMALE  sex_MALE  island_Biscoe  island_Dream  \\\n",
              "0         3750.0           0         1              0             0   \n",
              "1         3800.0           1         0              0             0   \n",
              "2         3250.0           1         0              0             0   \n",
              "4         3450.0           1         0              0             0   \n",
              "5         3650.0           0         1              0             0   \n",
              "..           ...         ...       ...            ...           ...   \n",
              "338       4925.0           1         0              1             0   \n",
              "340       4850.0           1         0              1             0   \n",
              "341       5750.0           0         1              1             0   \n",
              "342       5200.0           1         0              1             0   \n",
              "343       5400.0           0         1              1             0   \n",
              "\n",
              "     island_Torgersen  \n",
              "0                   1  \n",
              "1                   1  \n",
              "2                   1  \n",
              "4                   1  \n",
              "5                   1  \n",
              "..                ...  \n",
              "338                 0  \n",
              "340                 0  \n",
              "341                 0  \n",
              "342                 0  \n",
              "343                 0  \n",
              "\n",
              "[333 rows x 10 columns]"
            ],
            "text/html": [
              "\n",
              "\n",
              "  <div id=\"df-e0adb6e9-e9cc-49bc-babd-67c72183b67a\">\n",
              "    <div class=\"colab-df-container\">\n",
              "      <div>\n",
              "<style scoped>\n",
              "    .dataframe tbody tr th:only-of-type {\n",
              "        vertical-align: middle;\n",
              "    }\n",
              "\n",
              "    .dataframe tbody tr th {\n",
              "        vertical-align: top;\n",
              "    }\n",
              "\n",
              "    .dataframe thead th {\n",
              "        text-align: right;\n",
              "    }\n",
              "</style>\n",
              "<table border=\"1\" class=\"dataframe\">\n",
              "  <thead>\n",
              "    <tr style=\"text-align: right;\">\n",
              "      <th></th>\n",
              "      <th>species</th>\n",
              "      <th>culmen_length_mm</th>\n",
              "      <th>culmen_depth_mm</th>\n",
              "      <th>flipper_length_mm</th>\n",
              "      <th>body_mass_g</th>\n",
              "      <th>sex_FEMALE</th>\n",
              "      <th>sex_MALE</th>\n",
              "      <th>island_Biscoe</th>\n",
              "      <th>island_Dream</th>\n",
              "      <th>island_Torgersen</th>\n",
              "    </tr>\n",
              "  </thead>\n",
              "  <tbody>\n",
              "    <tr>\n",
              "      <th>0</th>\n",
              "      <td>Adelie</td>\n",
              "      <td>39.1</td>\n",
              "      <td>18.7</td>\n",
              "      <td>181.0</td>\n",
              "      <td>3750.0</td>\n",
              "      <td>0</td>\n",
              "      <td>1</td>\n",
              "      <td>0</td>\n",
              "      <td>0</td>\n",
              "      <td>1</td>\n",
              "    </tr>\n",
              "    <tr>\n",
              "      <th>1</th>\n",
              "      <td>Adelie</td>\n",
              "      <td>39.5</td>\n",
              "      <td>17.4</td>\n",
              "      <td>186.0</td>\n",
              "      <td>3800.0</td>\n",
              "      <td>1</td>\n",
              "      <td>0</td>\n",
              "      <td>0</td>\n",
              "      <td>0</td>\n",
              "      <td>1</td>\n",
              "    </tr>\n",
              "    <tr>\n",
              "      <th>2</th>\n",
              "      <td>Adelie</td>\n",
              "      <td>40.3</td>\n",
              "      <td>18.0</td>\n",
              "      <td>195.0</td>\n",
              "      <td>3250.0</td>\n",
              "      <td>1</td>\n",
              "      <td>0</td>\n",
              "      <td>0</td>\n",
              "      <td>0</td>\n",
              "      <td>1</td>\n",
              "    </tr>\n",
              "    <tr>\n",
              "      <th>4</th>\n",
              "      <td>Adelie</td>\n",
              "      <td>36.7</td>\n",
              "      <td>19.3</td>\n",
              "      <td>193.0</td>\n",
              "      <td>3450.0</td>\n",
              "      <td>1</td>\n",
              "      <td>0</td>\n",
              "      <td>0</td>\n",
              "      <td>0</td>\n",
              "      <td>1</td>\n",
              "    </tr>\n",
              "    <tr>\n",
              "      <th>5</th>\n",
              "      <td>Adelie</td>\n",
              "      <td>39.3</td>\n",
              "      <td>20.6</td>\n",
              "      <td>190.0</td>\n",
              "      <td>3650.0</td>\n",
              "      <td>0</td>\n",
              "      <td>1</td>\n",
              "      <td>0</td>\n",
              "      <td>0</td>\n",
              "      <td>1</td>\n",
              "    </tr>\n",
              "    <tr>\n",
              "      <th>...</th>\n",
              "      <td>...</td>\n",
              "      <td>...</td>\n",
              "      <td>...</td>\n",
              "      <td>...</td>\n",
              "      <td>...</td>\n",
              "      <td>...</td>\n",
              "      <td>...</td>\n",
              "      <td>...</td>\n",
              "      <td>...</td>\n",
              "      <td>...</td>\n",
              "    </tr>\n",
              "    <tr>\n",
              "      <th>338</th>\n",
              "      <td>Gentoo</td>\n",
              "      <td>47.2</td>\n",
              "      <td>13.7</td>\n",
              "      <td>214.0</td>\n",
              "      <td>4925.0</td>\n",
              "      <td>1</td>\n",
              "      <td>0</td>\n",
              "      <td>1</td>\n",
              "      <td>0</td>\n",
              "      <td>0</td>\n",
              "    </tr>\n",
              "    <tr>\n",
              "      <th>340</th>\n",
              "      <td>Gentoo</td>\n",
              "      <td>46.8</td>\n",
              "      <td>14.3</td>\n",
              "      <td>215.0</td>\n",
              "      <td>4850.0</td>\n",
              "      <td>1</td>\n",
              "      <td>0</td>\n",
              "      <td>1</td>\n",
              "      <td>0</td>\n",
              "      <td>0</td>\n",
              "    </tr>\n",
              "    <tr>\n",
              "      <th>341</th>\n",
              "      <td>Gentoo</td>\n",
              "      <td>50.4</td>\n",
              "      <td>15.7</td>\n",
              "      <td>222.0</td>\n",
              "      <td>5750.0</td>\n",
              "      <td>0</td>\n",
              "      <td>1</td>\n",
              "      <td>1</td>\n",
              "      <td>0</td>\n",
              "      <td>0</td>\n",
              "    </tr>\n",
              "    <tr>\n",
              "      <th>342</th>\n",
              "      <td>Gentoo</td>\n",
              "      <td>45.2</td>\n",
              "      <td>14.8</td>\n",
              "      <td>212.0</td>\n",
              "      <td>5200.0</td>\n",
              "      <td>1</td>\n",
              "      <td>0</td>\n",
              "      <td>1</td>\n",
              "      <td>0</td>\n",
              "      <td>0</td>\n",
              "    </tr>\n",
              "    <tr>\n",
              "      <th>343</th>\n",
              "      <td>Gentoo</td>\n",
              "      <td>49.9</td>\n",
              "      <td>16.1</td>\n",
              "      <td>213.0</td>\n",
              "      <td>5400.0</td>\n",
              "      <td>0</td>\n",
              "      <td>1</td>\n",
              "      <td>1</td>\n",
              "      <td>0</td>\n",
              "      <td>0</td>\n",
              "    </tr>\n",
              "  </tbody>\n",
              "</table>\n",
              "<p>333 rows × 10 columns</p>\n",
              "</div>\n",
              "      <button class=\"colab-df-convert\" onclick=\"convertToInteractive('df-e0adb6e9-e9cc-49bc-babd-67c72183b67a')\"\n",
              "              title=\"Convert this dataframe to an interactive table.\"\n",
              "              style=\"display:none;\">\n",
              "\n",
              "  <svg xmlns=\"http://www.w3.org/2000/svg\" height=\"24px\"viewBox=\"0 0 24 24\"\n",
              "       width=\"24px\">\n",
              "    <path d=\"M0 0h24v24H0V0z\" fill=\"none\"/>\n",
              "    <path d=\"M18.56 5.44l.94 2.06.94-2.06 2.06-.94-2.06-.94-.94-2.06-.94 2.06-2.06.94zm-11 1L8.5 8.5l.94-2.06 2.06-.94-2.06-.94L8.5 2.5l-.94 2.06-2.06.94zm10 10l.94 2.06.94-2.06 2.06-.94-2.06-.94-.94-2.06-.94 2.06-2.06.94z\"/><path d=\"M17.41 7.96l-1.37-1.37c-.4-.4-.92-.59-1.43-.59-.52 0-1.04.2-1.43.59L10.3 9.45l-7.72 7.72c-.78.78-.78 2.05 0 2.83L4 21.41c.39.39.9.59 1.41.59.51 0 1.02-.2 1.41-.59l7.78-7.78 2.81-2.81c.8-.78.8-2.07 0-2.86zM5.41 20L4 18.59l7.72-7.72 1.47 1.35L5.41 20z\"/>\n",
              "  </svg>\n",
              "      </button>\n",
              "\n",
              "\n",
              "\n",
              "    <div id=\"df-a73b21c8-72c1-4333-b2a3-30bd7b2dfb46\">\n",
              "      <button class=\"colab-df-quickchart\" onclick=\"quickchart('df-a73b21c8-72c1-4333-b2a3-30bd7b2dfb46')\"\n",
              "              title=\"Suggest charts.\"\n",
              "              style=\"display:none;\">\n",
              "\n",
              "<svg xmlns=\"http://www.w3.org/2000/svg\" height=\"24px\"viewBox=\"0 0 24 24\"\n",
              "     width=\"24px\">\n",
              "    <g>\n",
              "        <path d=\"M19 3H5c-1.1 0-2 .9-2 2v14c0 1.1.9 2 2 2h14c1.1 0 2-.9 2-2V5c0-1.1-.9-2-2-2zM9 17H7v-7h2v7zm4 0h-2V7h2v10zm4 0h-2v-4h2v4z\"/>\n",
              "    </g>\n",
              "</svg>\n",
              "      </button>\n",
              "    </div>\n",
              "\n",
              "<style>\n",
              "  .colab-df-quickchart {\n",
              "    background-color: #E8F0FE;\n",
              "    border: none;\n",
              "    border-radius: 50%;\n",
              "    cursor: pointer;\n",
              "    display: none;\n",
              "    fill: #1967D2;\n",
              "    height: 32px;\n",
              "    padding: 0 0 0 0;\n",
              "    width: 32px;\n",
              "  }\n",
              "\n",
              "  .colab-df-quickchart:hover {\n",
              "    background-color: #E2EBFA;\n",
              "    box-shadow: 0px 1px 2px rgba(60, 64, 67, 0.3), 0px 1px 3px 1px rgba(60, 64, 67, 0.15);\n",
              "    fill: #174EA6;\n",
              "  }\n",
              "\n",
              "  [theme=dark] .colab-df-quickchart {\n",
              "    background-color: #3B4455;\n",
              "    fill: #D2E3FC;\n",
              "  }\n",
              "\n",
              "  [theme=dark] .colab-df-quickchart:hover {\n",
              "    background-color: #434B5C;\n",
              "    box-shadow: 0px 1px 3px 1px rgba(0, 0, 0, 0.15);\n",
              "    filter: drop-shadow(0px 1px 2px rgba(0, 0, 0, 0.3));\n",
              "    fill: #FFFFFF;\n",
              "  }\n",
              "</style>\n",
              "\n",
              "    <script>\n",
              "      async function quickchart(key) {\n",
              "        const containerElement = document.querySelector('#' + key);\n",
              "        const charts = await google.colab.kernel.invokeFunction(\n",
              "            'suggestCharts', [key], {});\n",
              "      }\n",
              "    </script>\n",
              "\n",
              "      <script>\n",
              "\n",
              "function displayQuickchartButton(domScope) {\n",
              "  let quickchartButtonEl =\n",
              "    domScope.querySelector('#df-a73b21c8-72c1-4333-b2a3-30bd7b2dfb46 button.colab-df-quickchart');\n",
              "  quickchartButtonEl.style.display =\n",
              "    google.colab.kernel.accessAllowed ? 'block' : 'none';\n",
              "}\n",
              "\n",
              "        displayQuickchartButton(document);\n",
              "      </script>\n",
              "      <style>\n",
              "    .colab-df-container {\n",
              "      display:flex;\n",
              "      flex-wrap:wrap;\n",
              "      gap: 12px;\n",
              "    }\n",
              "\n",
              "    .colab-df-convert {\n",
              "      background-color: #E8F0FE;\n",
              "      border: none;\n",
              "      border-radius: 50%;\n",
              "      cursor: pointer;\n",
              "      display: none;\n",
              "      fill: #1967D2;\n",
              "      height: 32px;\n",
              "      padding: 0 0 0 0;\n",
              "      width: 32px;\n",
              "    }\n",
              "\n",
              "    .colab-df-convert:hover {\n",
              "      background-color: #E2EBFA;\n",
              "      box-shadow: 0px 1px 2px rgba(60, 64, 67, 0.3), 0px 1px 3px 1px rgba(60, 64, 67, 0.15);\n",
              "      fill: #174EA6;\n",
              "    }\n",
              "\n",
              "    [theme=dark] .colab-df-convert {\n",
              "      background-color: #3B4455;\n",
              "      fill: #D2E3FC;\n",
              "    }\n",
              "\n",
              "    [theme=dark] .colab-df-convert:hover {\n",
              "      background-color: #434B5C;\n",
              "      box-shadow: 0px 1px 3px 1px rgba(0, 0, 0, 0.15);\n",
              "      filter: drop-shadow(0px 1px 2px rgba(0, 0, 0, 0.3));\n",
              "      fill: #FFFFFF;\n",
              "    }\n",
              "  </style>\n",
              "\n",
              "      <script>\n",
              "        const buttonEl =\n",
              "          document.querySelector('#df-e0adb6e9-e9cc-49bc-babd-67c72183b67a button.colab-df-convert');\n",
              "        buttonEl.style.display =\n",
              "          google.colab.kernel.accessAllowed ? 'block' : 'none';\n",
              "\n",
              "        async function convertToInteractive(key) {\n",
              "          const element = document.querySelector('#df-e0adb6e9-e9cc-49bc-babd-67c72183b67a');\n",
              "          const dataTable =\n",
              "            await google.colab.kernel.invokeFunction('convertToInteractive',\n",
              "                                                     [key], {});\n",
              "          if (!dataTable) return;\n",
              "\n",
              "          const docLinkHtml = 'Like what you see? Visit the ' +\n",
              "            '<a target=\"_blank\" href=https://colab.research.google.com/notebooks/data_table.ipynb>data table notebook</a>'\n",
              "            + ' to learn more about interactive tables.';\n",
              "          element.innerHTML = '';\n",
              "          dataTable['output_type'] = 'display_data';\n",
              "          await google.colab.output.renderOutput(dataTable, element);\n",
              "          const docLink = document.createElement('div');\n",
              "          docLink.innerHTML = docLinkHtml;\n",
              "          element.appendChild(docLink);\n",
              "        }\n",
              "      </script>\n",
              "    </div>\n",
              "  </div>\n"
            ]
          },
          "metadata": {},
          "execution_count": 73
        }
      ]
    },
    {
      "cell_type": "code",
      "source": [
        "penguins_dataX = penguins_data.loc[:,penguins_data.columns != 'species']\n",
        "y = penguins_data.loc[:,['species']]"
      ],
      "metadata": {
        "id": "HlLYx1UKZXbb"
      },
      "execution_count": 74,
      "outputs": []
    },
    {
      "cell_type": "code",
      "source": [
        "y_enc = LabelEncoder().fit_transform(y)\n",
        "# Converting the label into a matrix form\n",
        "y_label = tf.keras.utils.to_categorical(y_enc)"
      ],
      "metadata": {
        "colab": {
          "base_uri": "https://localhost:8080/"
        },
        "id": "nKhP7lJJZZ1c",
        "outputId": "e68e189d-8cb6-46be-a235-5cc25b0ef7b8"
      },
      "execution_count": 75,
      "outputs": [
        {
          "output_type": "stream",
          "name": "stderr",
          "text": [
            "/usr/local/lib/python3.10/dist-packages/sklearn/preprocessing/_label.py:116: DataConversionWarning: A column-vector y was passed when a 1d array was expected. Please change the shape of y to (n_samples, ), for example using ravel().\n",
            "  y = column_or_1d(y, warn=True)\n"
          ]
        }
      ]
    },
    {
      "cell_type": "code",
      "source": [
        "X_train, X_test, y_train, y_test = train_test_split(X, y_label, test_size=0.3)"
      ],
      "metadata": {
        "id": "YqWcu1-2ZcTV"
      },
      "execution_count": 76,
      "outputs": []
    },
    {
      "cell_type": "code",
      "source": [
        "print(f\"Train shape : {X_train.shape}, Y Train : {y_train.shape}\")"
      ],
      "metadata": {
        "colab": {
          "base_uri": "https://localhost:8080/"
        },
        "id": "ytkoeJmmZedz",
        "outputId": "f9bcc5ec-a797-4378-a9e7-dc99439dbe7f"
      },
      "execution_count": 77,
      "outputs": [
        {
          "output_type": "stream",
          "name": "stdout",
          "text": [
            "Train shape : (233, 9), Y Train : (233, 3)\n"
          ]
        }
      ]
    },
    {
      "cell_type": "code",
      "source": [
        "def get_model():\n",
        "  model = Sequential([\n",
        "    keras.layers.Input(shape=X_train.shape[1:]),\n",
        "    keras.layers.BatchNormalization(),\n",
        "    keras.layers.Dense(500, activation='relu'),\n",
        "    keras.layers.Dense(200, activation='relu',),\n",
        "    keras.layers.Dense(3, activation='softmax')\n",
        "  ])\n",
        "  return model"
      ],
      "metadata": {
        "id": "v1qq4uhVZhGw"
      },
      "execution_count": 78,
      "outputs": []
    },
    {
      "cell_type": "code",
      "source": [
        "model = get_model()"
      ],
      "metadata": {
        "id": "hKBVv19wZw5q"
      },
      "execution_count": 79,
      "outputs": []
    },
    {
      "cell_type": "code",
      "source": [
        "# Compile the model\n",
        "model.compile(optimizer='adam',\n",
        " loss=keras.losses.CategoricalCrossentropy(),\n",
        " metrics=['accuracy'])"
      ],
      "metadata": {
        "id": "BCJLqY5vZzLO"
      },
      "execution_count": 80,
      "outputs": []
    },
    {
      "cell_type": "code",
      "source": [
        "model.summary()"
      ],
      "metadata": {
        "colab": {
          "base_uri": "https://localhost:8080/"
        },
        "id": "gdYK0vkdZ2A7",
        "outputId": "6ffb860d-1118-4415-84c5-55a1f5a9c90e"
      },
      "execution_count": 81,
      "outputs": [
        {
          "output_type": "stream",
          "name": "stdout",
          "text": [
            "Model: \"sequential_3\"\n",
            "_________________________________________________________________\n",
            " Layer (type)                Output Shape              Param #   \n",
            "=================================================================\n",
            " batch_normalization_3 (Batc  (None, 9)                36        \n",
            " hNormalization)                                                 \n",
            "                                                                 \n",
            " dense_9 (Dense)             (None, 500)               5000      \n",
            "                                                                 \n",
            " dense_10 (Dense)            (None, 200)               100200    \n",
            "                                                                 \n",
            " dense_11 (Dense)            (None, 3)                 603       \n",
            "                                                                 \n",
            "=================================================================\n",
            "Total params: 105,839\n",
            "Trainable params: 105,821\n",
            "Non-trainable params: 18\n",
            "_________________________________________________________________\n"
          ]
        }
      ]
    },
    {
      "cell_type": "code",
      "source": [
        "history = model.fit(X_train, y_train, epochs=30, validation_data=(X_test, y_test), verbose=1)"
      ],
      "metadata": {
        "colab": {
          "base_uri": "https://localhost:8080/"
        },
        "id": "Dq4yZVktZ4ci",
        "outputId": "95e822e2-bb57-4363-dbd8-21afc13251ea"
      },
      "execution_count": 82,
      "outputs": [
        {
          "output_type": "stream",
          "name": "stdout",
          "text": [
            "Epoch 1/30\n",
            "8/8 [==============================] - 1s 37ms/step - loss: 0.7259 - accuracy: 0.7983 - val_loss: 20.2049 - val_accuracy: 0.2800\n",
            "Epoch 2/30\n",
            "8/8 [==============================] - 0s 10ms/step - loss: 0.1970 - accuracy: 0.9914 - val_loss: 24.7855 - val_accuracy: 0.2800\n",
            "Epoch 3/30\n",
            "8/8 [==============================] - 0s 10ms/step - loss: 0.0729 - accuracy: 0.9914 - val_loss: 23.8454 - val_accuracy: 0.2800\n",
            "Epoch 4/30\n",
            "8/8 [==============================] - 0s 9ms/step - loss: 0.0364 - accuracy: 0.9871 - val_loss: 20.6886 - val_accuracy: 0.2800\n",
            "Epoch 5/30\n",
            "8/8 [==============================] - 0s 11ms/step - loss: 0.0210 - accuracy: 0.9957 - val_loss: 17.1003 - val_accuracy: 0.2800\n",
            "Epoch 6/30\n",
            "8/8 [==============================] - 0s 9ms/step - loss: 0.0148 - accuracy: 0.9957 - val_loss: 14.8453 - val_accuracy: 0.3300\n",
            "Epoch 7/30\n",
            "8/8 [==============================] - 0s 13ms/step - loss: 0.0169 - accuracy: 0.9957 - val_loss: 12.7407 - val_accuracy: 0.3900\n",
            "Epoch 8/30\n",
            "8/8 [==============================] - 0s 16ms/step - loss: 0.0135 - accuracy: 0.9957 - val_loss: 10.8199 - val_accuracy: 0.4600\n",
            "Epoch 9/30\n",
            "8/8 [==============================] - 0s 15ms/step - loss: 0.0072 - accuracy: 1.0000 - val_loss: 9.2860 - val_accuracy: 0.4800\n",
            "Epoch 10/30\n",
            "8/8 [==============================] - 0s 14ms/step - loss: 0.0192 - accuracy: 0.9914 - val_loss: 8.3731 - val_accuracy: 0.4800\n",
            "Epoch 11/30\n",
            "8/8 [==============================] - 0s 17ms/step - loss: 0.0243 - accuracy: 0.9871 - val_loss: 7.3694 - val_accuracy: 0.4800\n",
            "Epoch 12/30\n",
            "8/8 [==============================] - 0s 15ms/step - loss: 0.0106 - accuracy: 0.9957 - val_loss: 6.1433 - val_accuracy: 0.4800\n",
            "Epoch 13/30\n",
            "8/8 [==============================] - 0s 15ms/step - loss: 0.0057 - accuracy: 1.0000 - val_loss: 5.2547 - val_accuracy: 0.4800\n",
            "Epoch 14/30\n",
            "8/8 [==============================] - 0s 15ms/step - loss: 0.0061 - accuracy: 1.0000 - val_loss: 4.5944 - val_accuracy: 0.4900\n",
            "Epoch 15/30\n",
            "8/8 [==============================] - 0s 15ms/step - loss: 0.0129 - accuracy: 0.9957 - val_loss: 4.1010 - val_accuracy: 0.4900\n",
            "Epoch 16/30\n",
            "8/8 [==============================] - 0s 16ms/step - loss: 0.0098 - accuracy: 0.9957 - val_loss: 3.5356 - val_accuracy: 0.4900\n",
            "Epoch 17/30\n",
            "8/8 [==============================] - 0s 14ms/step - loss: 0.0164 - accuracy: 0.9914 - val_loss: 2.9147 - val_accuracy: 0.5100\n",
            "Epoch 18/30\n",
            "8/8 [==============================] - 0s 14ms/step - loss: 0.0170 - accuracy: 0.9914 - val_loss: 3.1803 - val_accuracy: 0.5100\n",
            "Epoch 19/30\n",
            "8/8 [==============================] - 0s 15ms/step - loss: 0.0084 - accuracy: 0.9957 - val_loss: 2.2003 - val_accuracy: 0.5800\n",
            "Epoch 20/30\n",
            "8/8 [==============================] - 0s 17ms/step - loss: 0.0297 - accuracy: 0.9871 - val_loss: 1.8180 - val_accuracy: 0.6600\n",
            "Epoch 21/30\n",
            "8/8 [==============================] - 0s 16ms/step - loss: 0.0248 - accuracy: 0.9828 - val_loss: 1.3684 - val_accuracy: 0.7100\n",
            "Epoch 22/30\n",
            "8/8 [==============================] - 0s 16ms/step - loss: 0.0120 - accuracy: 0.9957 - val_loss: 1.0386 - val_accuracy: 0.7300\n",
            "Epoch 23/30\n",
            "8/8 [==============================] - 0s 15ms/step - loss: 0.0344 - accuracy: 0.9828 - val_loss: 1.1162 - val_accuracy: 0.7300\n",
            "Epoch 24/30\n",
            "8/8 [==============================] - 0s 13ms/step - loss: 0.0205 - accuracy: 0.9914 - val_loss: 0.8262 - val_accuracy: 0.7600\n",
            "Epoch 25/30\n",
            "8/8 [==============================] - 0s 17ms/step - loss: 0.0068 - accuracy: 1.0000 - val_loss: 0.5191 - val_accuracy: 0.8500\n",
            "Epoch 26/30\n",
            "8/8 [==============================] - 0s 14ms/step - loss: 0.0214 - accuracy: 0.9957 - val_loss: 0.4036 - val_accuracy: 0.8500\n",
            "Epoch 27/30\n",
            "8/8 [==============================] - 0s 16ms/step - loss: 0.0225 - accuracy: 0.9871 - val_loss: 0.2793 - val_accuracy: 0.9000\n",
            "Epoch 28/30\n",
            "8/8 [==============================] - 0s 16ms/step - loss: 0.0106 - accuracy: 0.9957 - val_loss: 0.2214 - val_accuracy: 0.9000\n",
            "Epoch 29/30\n",
            "8/8 [==============================] - 0s 18ms/step - loss: 0.0126 - accuracy: 0.9871 - val_loss: 0.1268 - val_accuracy: 0.9500\n",
            "Epoch 30/30\n",
            "8/8 [==============================] - 0s 10ms/step - loss: 0.0129 - accuracy: 0.9957 - val_loss: 0.0625 - val_accuracy: 0.9800\n"
          ]
        }
      ]
    },
    {
      "cell_type": "code",
      "source": [
        "model.evaluate(X_test, y_test)"
      ],
      "metadata": {
        "colab": {
          "base_uri": "https://localhost:8080/"
        },
        "id": "BlY3lsfsZ-1h",
        "outputId": "021f7ef0-7e17-436e-ca59-651508bb1898"
      },
      "execution_count": 83,
      "outputs": [
        {
          "output_type": "stream",
          "name": "stdout",
          "text": [
            "4/4 [==============================] - 0s 4ms/step - loss: 0.0625 - accuracy: 0.9800\n"
          ]
        },
        {
          "output_type": "execute_result",
          "data": {
            "text/plain": [
              "[0.06249880790710449, 0.9800000190734863]"
            ]
          },
          "metadata": {},
          "execution_count": 83
        }
      ]
    },
    {
      "cell_type": "markdown",
      "source": [
        "##Performance Monitor"
      ],
      "metadata": {
        "id": "Shtqtdoubotm"
      }
    },
    {
      "cell_type": "code",
      "source": [
        "pd.DataFrame(history.history).plot(figsize=(10,6))\n",
        "plt.grid(True)\n",
        "plt.gca().set_ylim(0, 1)\n",
        "plt.show()"
      ],
      "metadata": {
        "colab": {
          "base_uri": "https://localhost:8080/",
          "height": 528
        },
        "id": "1IH2sv25aYc7",
        "outputId": "c6f96811-77f2-467d-8365-1c8148a18a7e"
      },
      "execution_count": 84,
      "outputs": [
        {
          "output_type": "display_data",
          "data": {
            "text/plain": [
              "<Figure size 1000x600 with 1 Axes>"
            ],
            "image/png": "[encoded data removed]"
          },
          "metadata": {}
        }
      ]
    }
  ]
}