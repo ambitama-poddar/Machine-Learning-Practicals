{
  "nbformat": 4,
  "nbformat_minor": 0,
  "metadata": {
    "colab": {
      "provenance": [],
      "gpuType": "T4",
      "authorship_tag": "ABX9TyMvZESOg9YYi/eY8Arda6wo",
      "include_colab_link": true
    },
    "kernelspec": {
      "name": "python3",
      "display_name": "Python 3"
    },
    "language_info": {
      "name": "python"
    },
    "accelerator": "GPU"
  },
  "cells": [
    {
      "cell_type": "markdown",
      "metadata": {
        "id": "view-in-github",
        "colab_type": "text"
      },
      "source": [
        "<a href=\"https://colab.research.google.com/github/ambitama-poddar/Machine-Learning-Practicals/blob/main/DA_4.ipynb\" target=\"_parent\"><img src=\"https://colab.research.google.com/assets/colab-badge.svg\" alt=\"Open In Colab\"/></a>"
      ]
    },
    {
      "cell_type": "code",
      "execution_count": 18,
      "metadata": {
        "id": "VWqLG9-yrm4V"
      },
      "outputs": [],
      "source": [
        "import pandas as pd\n",
        "import numpy as np\n",
        "import matplotlib.pyplot as plt\n",
        "import seaborn as sns\n",
        "from sklearn.model_selection import train_test_split\n",
        "from sklearn.preprocessing import LabelEncoder\n",
        "from keras.models import Model\n",
        "from keras.layers import LSTM, Activation, Dense, Dropout, Input, Embedding\n",
        "from keras.optimizers import RMSprop\n",
        "from keras.preprocessing.text import Tokenizer\n",
        "from keras.preprocessing import sequence\n",
        "from keras.utils import to_categorical\n",
        "from keras.callbacks import EarlyStopping\n",
        "%matplotlib inline"
      ]
    },
    {
      "cell_type": "code",
      "source": [
        "from google.colab import drive\n",
        "drive.mount('/content/drive')"
      ],
      "metadata": {
        "colab": {
          "base_uri": "https://localhost:8080/"
        },
        "id": "ryVGR9QnHoTS",
        "outputId": "b20a4fc5-62c7-4d08-a0dc-a5fa946a0879"
      },
      "execution_count": 19,
      "outputs": [
        {
          "output_type": "stream",
          "name": "stdout",
          "text": [
            "Drive already mounted at /content/drive; to attempt to forcibly remount, call drive.mount(\"/content/drive\", force_remount=True).\n"
          ]
        }
      ]
    },
    {
      "cell_type": "code",
      "source": [
        "Path = 'drive/My Drive/Colab Notebooks'"
      ],
      "metadata": {
        "id": "b9-yVHpZHziC"
      },
      "execution_count": 20,
      "outputs": []
    },
    {
      "cell_type": "code",
      "source": [
        "df = pd.read_csv(Path+'/Sentiment140_dataset.csv',delimiter=',',encoding='latin-1')\n",
        "df.head(20)"
      ],
      "metadata": {
        "colab": {
          "base_uri": "https://localhost:8080/",
          "height": 1000
        },
        "id": "EpcjdeU4ICiW",
        "outputId": "838d62f8-b27e-41e2-b008-c77f105054ab"
      },
      "execution_count": 21,
      "outputs": [
        {
          "output_type": "execute_result",
          "data": {
            "text/plain": [
              "    0  1467810369  Mon Apr 06 22:19:45 PDT 2009  NO_QUERY  _TheSpecialOne_  \\\n",
              "0   0  1467810672  Mon Apr 06 22:19:49 PDT 2009  NO_QUERY    scotthamilton   \n",
              "1   0  1467810917  Mon Apr 06 22:19:53 PDT 2009  NO_QUERY         mattycus   \n",
              "2   0  1467811184  Mon Apr 06 22:19:57 PDT 2009  NO_QUERY          ElleCTF   \n",
              "3   0  1467811193  Mon Apr 06 22:19:57 PDT 2009  NO_QUERY           Karoli   \n",
              "4   0  1467811372  Mon Apr 06 22:20:00 PDT 2009  NO_QUERY         joy_wolf   \n",
              "5   0  1467811592  Mon Apr 06 22:20:03 PDT 2009  NO_QUERY          mybirch   \n",
              "6   0  1467811594  Mon Apr 06 22:20:03 PDT 2009  NO_QUERY             coZZ   \n",
              "7   0  1467811795  Mon Apr 06 22:20:05 PDT 2009  NO_QUERY  2Hood4Hollywood   \n",
              "8   0  1467812025  Mon Apr 06 22:20:09 PDT 2009  NO_QUERY          mimismo   \n",
              "9   0  1467812416  Mon Apr 06 22:20:16 PDT 2009  NO_QUERY   erinx3leannexo   \n",
              "10  0  1467812579  Mon Apr 06 22:20:17 PDT 2009  NO_QUERY     pardonlauren   \n",
              "11  0  1467812723  Mon Apr 06 22:20:19 PDT 2009  NO_QUERY             TLeC   \n",
              "12  0  1467812771  Mon Apr 06 22:20:19 PDT 2009  NO_QUERY  robrobbierobert   \n",
              "13  0  1467812784  Mon Apr 06 22:20:20 PDT 2009  NO_QUERY      bayofwolves   \n",
              "14  0  1467812799  Mon Apr 06 22:20:20 PDT 2009  NO_QUERY       HairByJess   \n",
              "15  0  1467812964  Mon Apr 06 22:20:22 PDT 2009  NO_QUERY   lovesongwriter   \n",
              "16  0  1467813137  Mon Apr 06 22:20:25 PDT 2009  NO_QUERY         armotley   \n",
              "17  0  1467813579  Mon Apr 06 22:20:31 PDT 2009  NO_QUERY       starkissed   \n",
              "18  0  1467813782  Mon Apr 06 22:20:34 PDT 2009  NO_QUERY        gi_gi_bee   \n",
              "19  0  1467813985  Mon Apr 06 22:20:37 PDT 2009  NO_QUERY           quanvu   \n",
              "\n",
              "   @switchfoot http://twitpic.com/2y1zl - Awww, that's a bummer.  You shoulda got David Carr of Third Day to do it. ;D  \n",
              "0   is upset that he can't update his Facebook by ...                                                                   \n",
              "1   @Kenichan I dived many times for the ball. Man...                                                                   \n",
              "2     my whole body feels itchy and like its on fire                                                                    \n",
              "3   @nationwideclass no, it's not behaving at all....                                                                   \n",
              "4                       @Kwesidei not the whole crew                                                                    \n",
              "5                                         Need a hug                                                                    \n",
              "6   @LOLTrish hey  long time no see! Yes.. Rains a...                                                                   \n",
              "7                @Tatiana_K nope they didn't have it                                                                    \n",
              "8                           @twittera que me muera ?                                                                    \n",
              "9         spring break in plain city... it's snowing                                                                    \n",
              "10                         I just re-pierced my ears                                                                    \n",
              "11  @caregiving I couldn't bear to watch it.  And ...                                                                   \n",
              "12  @octolinz16 It it counts, idk why I did either...                                                                   \n",
              "13  @smarrison i would've been the first, but i di...                                                                   \n",
              "14  @iamjazzyfizzle I wish I got to watch it with ...                                                                   \n",
              "15  Hollis' death scene will hurt me severely to w...                                                                   \n",
              "16                               about to file taxes                                                                    \n",
              "17  @LettyA ahh ive always wanted to see rent  lov...                                                                   \n",
              "18  @FakerPattyPattz Oh dear. Were you drinking ou...                                                                   \n",
              "19  @alydesigns i was out most of the day so didn'...                                                                   "
            ],
            "text/html": [
              "\n",
              "\n",
              "  <div id=\"df-51895a4e-768b-4db2-b9cd-fb2ce681670b\">\n",
              "    <div class=\"colab-df-container\">\n",
              "      <div>\n",
              "<style scoped>\n",
              "    .dataframe tbody tr th:only-of-type {\n",
              "        vertical-align: middle;\n",
              "    }\n",
              "\n",
              "    .dataframe tbody tr th {\n",
              "        vertical-align: top;\n",
              "    }\n",
              "\n",
              "    .dataframe thead th {\n",
              "        text-align: right;\n",
              "    }\n",
              "</style>\n",
              "<table border=\"1\" class=\"dataframe\">\n",
              "  <thead>\n",
              "    <tr style=\"text-align: right;\">\n",
              "      <th></th>\n",
              "      <th>0</th>\n",
              "      <th>1467810369</th>\n",
              "      <th>Mon Apr 06 22:19:45 PDT 2009</th>\n",
              "      <th>NO_QUERY</th>\n",
              "      <th>_TheSpecialOne_</th>\n",
              "      <th>@switchfoot http://twitpic.com/2y1zl - Awww, that's a bummer.  You shoulda got David Carr of Third Day to do it. ;D</th>\n",
              "    </tr>\n",
              "  </thead>\n",
              "  <tbody>\n",
              "    <tr>\n",
              "      <th>0</th>\n",
              "      <td>0</td>\n",
              "      <td>1467810672</td>\n",
              "      <td>Mon Apr 06 22:19:49 PDT 2009</td>\n",
              "      <td>NO_QUERY</td>\n",
              "      <td>scotthamilton</td>\n",
              "      <td>is upset that he can't update his Facebook by ...</td>\n",
              "    </tr>\n",
              "    <tr>\n",
              "      <th>1</th>\n",
              "      <td>0</td>\n",
              "      <td>1467810917</td>\n",
              "      <td>Mon Apr 06 22:19:53 PDT 2009</td>\n",
              "      <td>NO_QUERY</td>\n",
              "      <td>mattycus</td>\n",
              "      <td>@Kenichan I dived many times for the ball. Man...</td>\n",
              "    </tr>\n",
              "    <tr>\n",
              "      <th>2</th>\n",
              "      <td>0</td>\n",
              "      <td>1467811184</td>\n",
              "      <td>Mon Apr 06 22:19:57 PDT 2009</td>\n",
              "      <td>NO_QUERY</td>\n",
              "      <td>ElleCTF</td>\n",
              "      <td>my whole body feels itchy and like its on fire</td>\n",
              "    </tr>\n",
              "    <tr>\n",
              "      <th>3</th>\n",
              "      <td>0</td>\n",
              "      <td>1467811193</td>\n",
              "      <td>Mon Apr 06 22:19:57 PDT 2009</td>\n",
              "      <td>NO_QUERY</td>\n",
              "      <td>Karoli</td>\n",
              "      <td>@nationwideclass no, it's not behaving at all....</td>\n",
              "    </tr>\n",
              "    <tr>\n",
              "      <th>4</th>\n",
              "      <td>0</td>\n",
              "      <td>1467811372</td>\n",
              "      <td>Mon Apr 06 22:20:00 PDT 2009</td>\n",
              "      <td>NO_QUERY</td>\n",
              "      <td>joy_wolf</td>\n",
              "      <td>@Kwesidei not the whole crew</td>\n",
              "    </tr>\n",
              "    <tr>\n",
              "      <th>5</th>\n",
              "      <td>0</td>\n",
              "      <td>1467811592</td>\n",
              "      <td>Mon Apr 06 22:20:03 PDT 2009</td>\n",
              "      <td>NO_QUERY</td>\n",
              "      <td>mybirch</td>\n",
              "      <td>Need a hug</td>\n",
              "    </tr>\n",
              "    <tr>\n",
              "      <th>6</th>\n",
              "      <td>0</td>\n",
              "      <td>1467811594</td>\n",
              "      <td>Mon Apr 06 22:20:03 PDT 2009</td>\n",
              "      <td>NO_QUERY</td>\n",
              "      <td>coZZ</td>\n",
              "      <td>@LOLTrish hey  long time no see! Yes.. Rains a...</td>\n",
              "    </tr>\n",
              "    <tr>\n",
              "      <th>7</th>\n",
              "      <td>0</td>\n",
              "      <td>1467811795</td>\n",
              "      <td>Mon Apr 06 22:20:05 PDT 2009</td>\n",
              "      <td>NO_QUERY</td>\n",
              "      <td>2Hood4Hollywood</td>\n",
              "      <td>@Tatiana_K nope they didn't have it</td>\n",
              "    </tr>\n",
              "    <tr>\n",
              "      <th>8</th>\n",
              "      <td>0</td>\n",
              "      <td>1467812025</td>\n",
              "      <td>Mon Apr 06 22:20:09 PDT 2009</td>\n",
              "      <td>NO_QUERY</td>\n",
              "      <td>mimismo</td>\n",
              "      <td>@twittera que me muera ?</td>\n",
              "    </tr>\n",
              "    <tr>\n",
              "      <th>9</th>\n",
              "      <td>0</td>\n",
              "      <td>1467812416</td>\n",
              "      <td>Mon Apr 06 22:20:16 PDT 2009</td>\n",
              "      <td>NO_QUERY</td>\n",
              "      <td>erinx3leannexo</td>\n",
              "      <td>spring break in plain city... it's snowing</td>\n",
              "    </tr>\n",
              "    <tr>\n",
              "      <th>10</th>\n",
              "      <td>0</td>\n",
              "      <td>1467812579</td>\n",
              "      <td>Mon Apr 06 22:20:17 PDT 2009</td>\n",
              "      <td>NO_QUERY</td>\n",
              "      <td>pardonlauren</td>\n",
              "      <td>I just re-pierced my ears</td>\n",
              "    </tr>\n",
              "    <tr>\n",
              "      <th>11</th>\n",
              "      <td>0</td>\n",
              "      <td>1467812723</td>\n",
              "      <td>Mon Apr 06 22:20:19 PDT 2009</td>\n",
              "      <td>NO_QUERY</td>\n",
              "      <td>TLeC</td>\n",
              "      <td>@caregiving I couldn't bear to watch it.  And ...</td>\n",
              "    </tr>\n",
              "    <tr>\n",
              "      <th>12</th>\n",
              "      <td>0</td>\n",
              "      <td>1467812771</td>\n",
              "      <td>Mon Apr 06 22:20:19 PDT 2009</td>\n",
              "      <td>NO_QUERY</td>\n",
              "      <td>robrobbierobert</td>\n",
              "      <td>@octolinz16 It it counts, idk why I did either...</td>\n",
              "    </tr>\n",
              "    <tr>\n",
              "      <th>13</th>\n",
              "      <td>0</td>\n",
              "      <td>1467812784</td>\n",
              "      <td>Mon Apr 06 22:20:20 PDT 2009</td>\n",
              "      <td>NO_QUERY</td>\n",
              "      <td>bayofwolves</td>\n",
              "      <td>@smarrison i would've been the first, but i di...</td>\n",
              "    </tr>\n",
              "    <tr>\n",
              "      <th>14</th>\n",
              "      <td>0</td>\n",
              "      <td>1467812799</td>\n",
              "      <td>Mon Apr 06 22:20:20 PDT 2009</td>\n",
              "      <td>NO_QUERY</td>\n",
              "      <td>HairByJess</td>\n",
              "      <td>@iamjazzyfizzle I wish I got to watch it with ...</td>\n",
              "    </tr>\n",
              "    <tr>\n",
              "      <th>15</th>\n",
              "      <td>0</td>\n",
              "      <td>1467812964</td>\n",
              "      <td>Mon Apr 06 22:20:22 PDT 2009</td>\n",
              "      <td>NO_QUERY</td>\n",
              "      <td>lovesongwriter</td>\n",
              "      <td>Hollis' death scene will hurt me severely to w...</td>\n",
              "    </tr>\n",
              "    <tr>\n",
              "      <th>16</th>\n",
              "      <td>0</td>\n",
              "      <td>1467813137</td>\n",
              "      <td>Mon Apr 06 22:20:25 PDT 2009</td>\n",
              "      <td>NO_QUERY</td>\n",
              "      <td>armotley</td>\n",
              "      <td>about to file taxes</td>\n",
              "    </tr>\n",
              "    <tr>\n",
              "      <th>17</th>\n",
              "      <td>0</td>\n",
              "      <td>1467813579</td>\n",
              "      <td>Mon Apr 06 22:20:31 PDT 2009</td>\n",
              "      <td>NO_QUERY</td>\n",
              "      <td>starkissed</td>\n",
              "      <td>@LettyA ahh ive always wanted to see rent  lov...</td>\n",
              "    </tr>\n",
              "    <tr>\n",
              "      <th>18</th>\n",
              "      <td>0</td>\n",
              "      <td>1467813782</td>\n",
              "      <td>Mon Apr 06 22:20:34 PDT 2009</td>\n",
              "      <td>NO_QUERY</td>\n",
              "      <td>gi_gi_bee</td>\n",
              "      <td>@FakerPattyPattz Oh dear. Were you drinking ou...</td>\n",
              "    </tr>\n",
              "    <tr>\n",
              "      <th>19</th>\n",
              "      <td>0</td>\n",
              "      <td>1467813985</td>\n",
              "      <td>Mon Apr 06 22:20:37 PDT 2009</td>\n",
              "      <td>NO_QUERY</td>\n",
              "      <td>quanvu</td>\n",
              "      <td>@alydesigns i was out most of the day so didn'...</td>\n",
              "    </tr>\n",
              "  </tbody>\n",
              "</table>\n",
              "</div>\n",
              "      <button class=\"colab-df-convert\" onclick=\"convertToInteractive('df-51895a4e-768b-4db2-b9cd-fb2ce681670b')\"\n",
              "              title=\"Convert this dataframe to an interactive table.\"\n",
              "              style=\"display:none;\">\n",
              "\n",
              "  <svg xmlns=\"http://www.w3.org/2000/svg\" height=\"24px\"viewBox=\"0 0 24 24\"\n",
              "       width=\"24px\">\n",
              "    <path d=\"M0 0h24v24H0V0z\" fill=\"none\"/>\n",
              "    <path d=\"M18.56 5.44l.94 2.06.94-2.06 2.06-.94-2.06-.94-.94-2.06-.94 2.06-2.06.94zm-11 1L8.5 8.5l.94-2.06 2.06-.94-2.06-.94L8.5 2.5l-.94 2.06-2.06.94zm10 10l.94 2.06.94-2.06 2.06-.94-2.06-.94-.94-2.06-.94 2.06-2.06.94z\"/><path d=\"M17.41 7.96l-1.37-1.37c-.4-.4-.92-.59-1.43-.59-.52 0-1.04.2-1.43.59L10.3 9.45l-7.72 7.72c-.78.78-.78 2.05 0 2.83L4 21.41c.39.39.9.59 1.41.59.51 0 1.02-.2 1.41-.59l7.78-7.78 2.81-2.81c.8-.78.8-2.07 0-2.86zM5.41 20L4 18.59l7.72-7.72 1.47 1.35L5.41 20z\"/>\n",
              "  </svg>\n",
              "      </button>\n",
              "\n",
              "\n",
              "\n",
              "    <div id=\"df-6ec8f0cb-22f6-4f71-bfae-7a9c8a5230b3\">\n",
              "      <button class=\"colab-df-quickchart\" onclick=\"quickchart('df-6ec8f0cb-22f6-4f71-bfae-7a9c8a5230b3')\"\n",
              "              title=\"Suggest charts.\"\n",
              "              style=\"display:none;\">\n",
              "\n",
              "<svg xmlns=\"http://www.w3.org/2000/svg\" height=\"24px\"viewBox=\"0 0 24 24\"\n",
              "     width=\"24px\">\n",
              "    <g>\n",
              "        <path d=\"M19 3H5c-1.1 0-2 .9-2 2v14c0 1.1.9 2 2 2h14c1.1 0 2-.9 2-2V5c0-1.1-.9-2-2-2zM9 17H7v-7h2v7zm4 0h-2V7h2v10zm4 0h-2v-4h2v4z\"/>\n",
              "    </g>\n",
              "</svg>\n",
              "      </button>\n",
              "    </div>\n",
              "\n",
              "<style>\n",
              "  .colab-df-quickchart {\n",
              "    background-color: #E8F0FE;\n",
              "    border: none;\n",
              "    border-radius: 50%;\n",
              "    cursor: pointer;\n",
              "    display: none;\n",
              "    fill: #1967D2;\n",
              "    height: 32px;\n",
              "    padding: 0 0 0 0;\n",
              "    width: 32px;\n",
              "  }\n",
              "\n",
              "  .colab-df-quickchart:hover {\n",
              "    background-color: #E2EBFA;\n",
              "    box-shadow: 0px 1px 2px rgba(60, 64, 67, 0.3), 0px 1px 3px 1px rgba(60, 64, 67, 0.15);\n",
              "    fill: #174EA6;\n",
              "  }\n",
              "\n",
              "  [theme=dark] .colab-df-quickchart {\n",
              "    background-color: #3B4455;\n",
              "    fill: #D2E3FC;\n",
              "  }\n",
              "\n",
              "  [theme=dark] .colab-df-quickchart:hover {\n",
              "    background-color: #434B5C;\n",
              "    box-shadow: 0px 1px 3px 1px rgba(0, 0, 0, 0.15);\n",
              "    filter: drop-shadow(0px 1px 2px rgba(0, 0, 0, 0.3));\n",
              "    fill: #FFFFFF;\n",
              "  }\n",
              "</style>\n",
              "\n",
              "    <script>\n",
              "      async function quickchart(key) {\n",
              "        const containerElement = document.querySelector('#' + key);\n",
              "        const charts = await google.colab.kernel.invokeFunction(\n",
              "            'suggestCharts', [key], {});\n",
              "      }\n",
              "    </script>\n",
              "\n",
              "      <script>\n",
              "\n",
              "function displayQuickchartButton(domScope) {\n",
              "  let quickchartButtonEl =\n",
              "    domScope.querySelector('#df-6ec8f0cb-22f6-4f71-bfae-7a9c8a5230b3 button.colab-df-quickchart');\n",
              "  quickchartButtonEl.style.display =\n",
              "    google.colab.kernel.accessAllowed ? 'block' : 'none';\n",
              "}\n",
              "\n",
              "        displayQuickchartButton(document);\n",
              "      </script>\n",
              "      <style>\n",
              "    .colab-df-container {\n",
              "      display:flex;\n",
              "      flex-wrap:wrap;\n",
              "      gap: 12px;\n",
              "    }\n",
              "\n",
              "    .colab-df-convert {\n",
              "      background-color: #E8F0FE;\n",
              "      border: none;\n",
              "      border-radius: 50%;\n",
              "      cursor: pointer;\n",
              "      display: none;\n",
              "      fill: #1967D2;\n",
              "      height: 32px;\n",
              "      padding: 0 0 0 0;\n",
              "      width: 32px;\n",
              "    }\n",
              "\n",
              "    .colab-df-convert:hover {\n",
              "      background-color: #E2EBFA;\n",
              "      box-shadow: 0px 1px 2px rgba(60, 64, 67, 0.3), 0px 1px 3px 1px rgba(60, 64, 67, 0.15);\n",
              "      fill: #174EA6;\n",
              "    }\n",
              "\n",
              "    [theme=dark] .colab-df-convert {\n",
              "      background-color: #3B4455;\n",
              "      fill: #D2E3FC;\n",
              "    }\n",
              "\n",
              "    [theme=dark] .colab-df-convert:hover {\n",
              "      background-color: #434B5C;\n",
              "      box-shadow: 0px 1px 3px 1px rgba(0, 0, 0, 0.15);\n",
              "      filter: drop-shadow(0px 1px 2px rgba(0, 0, 0, 0.3));\n",
              "      fill: #FFFFFF;\n",
              "    }\n",
              "  </style>\n",
              "\n",
              "      <script>\n",
              "        const buttonEl =\n",
              "          document.querySelector('#df-51895a4e-768b-4db2-b9cd-fb2ce681670b button.colab-df-convert');\n",
              "        buttonEl.style.display =\n",
              "          google.colab.kernel.accessAllowed ? 'block' : 'none';\n",
              "\n",
              "        async function convertToInteractive(key) {\n",
              "          const element = document.querySelector('#df-51895a4e-768b-4db2-b9cd-fb2ce681670b');\n",
              "          const dataTable =\n",
              "            await google.colab.kernel.invokeFunction('convertToInteractive',\n",
              "                                                     [key], {});\n",
              "          if (!dataTable) return;\n",
              "\n",
              "          const docLinkHtml = 'Like what you see? Visit the ' +\n",
              "            '<a target=\"_blank\" href=https://colab.research.google.com/notebooks/data_table.ipynb>data table notebook</a>'\n",
              "            + ' to learn more about interactive tables.';\n",
              "          element.innerHTML = '';\n",
              "          dataTable['output_type'] = 'display_data';\n",
              "          await google.colab.output.renderOutput(dataTable, element);\n",
              "          const docLink = document.createElement('div');\n",
              "          docLink.innerHTML = docLinkHtml;\n",
              "          element.appendChild(docLink);\n",
              "        }\n",
              "      </script>\n",
              "    </div>\n",
              "  </div>\n"
            ]
          },
          "metadata": {},
          "execution_count": 21
        }
      ]
    },
    {
      "cell_type": "code",
      "source": [
        "columns_to_use=df.columns\n",
        "print(columns_to_use)"
      ],
      "metadata": {
        "colab": {
          "base_uri": "https://localhost:8080/"
        },
        "id": "njJpkTDWJA2l",
        "outputId": "ce03cb22-ee73-49b6-e4af-b1d53fbebe51"
      },
      "execution_count": 22,
      "outputs": [
        {
          "output_type": "stream",
          "name": "stdout",
          "text": [
            "Index(['0', '1467810369', 'Mon Apr 06 22:19:45 PDT 2009', 'NO_QUERY',\n",
            "       '_TheSpecialOne_',\n",
            "       '@switchfoot http://twitpic.com/2y1zl - Awww, that's a bummer.  You shoulda got David Carr of Third Day to do it. ;D'],\n",
            "      dtype='object')\n"
          ]
        }
      ]
    },
    {
      "cell_type": "code",
      "source": [
        "df.drop(['1467810369', 'Mon Apr 06 22:19:45 PDT 2009', 'NO_QUERY'],axis=1,inplace=True)\n",
        "df.info()"
      ],
      "metadata": {
        "id": "KSW3azEDVpLl",
        "outputId": "4f44c739-48a5-464e-8bdd-b279ded5e5e3",
        "colab": {
          "base_uri": "https://localhost:8080/"
        }
      },
      "execution_count": 23,
      "outputs": [
        {
          "output_type": "stream",
          "name": "stdout",
          "text": [
            "<class 'pandas.core.frame.DataFrame'>\n",
            "RangeIndex: 1599999 entries, 0 to 1599998\n",
            "Data columns (total 3 columns):\n",
            " #   Column                                                                                                               Non-Null Count    Dtype \n",
            "---  ------                                                                                                               --------------    ----- \n",
            " 0   0                                                                                                                    1599999 non-null  int64 \n",
            " 1   _TheSpecialOne_                                                                                                      1599999 non-null  object\n",
            " 2   @switchfoot http://twitpic.com/2y1zl - Awww, that's a bummer.  You shoulda got David Carr of Third Day to do it. ;D  1599999 non-null  object\n",
            "dtypes: int64(1), object(2)\n",
            "memory usage: 36.6+ MB\n"
          ]
        }
      ]
    },
    {
      "cell_type": "code",
      "source": [
        "# Create a dictionary to map current column names to new column names\n",
        "new_column_names = {'_TheSpecialOne_': 'v1',\n",
        "                    \"@switchfoot http://twitpic.com/2y1zl - Awww, that's a bummer.  You shoulda got David Carr of Third Day to do it. ;D\": 'v2',\n",
        "                   }\n",
        "\n",
        "# Rename the columns\n",
        "df.rename(columns=new_column_names, inplace=True)"
      ],
      "metadata": {
        "id": "oC14nMY-WxSB"
      },
      "execution_count": 24,
      "outputs": []
    },
    {
      "cell_type": "code",
      "source": [
        "new_columns=df.columns\n",
        "print(new_columns)"
      ],
      "metadata": {
        "id": "36uZ4GC-Xgt7",
        "outputId": "0d54e161-294b-4444-c7bf-30ba217b50e7",
        "colab": {
          "base_uri": "https://localhost:8080/"
        }
      },
      "execution_count": 25,
      "outputs": [
        {
          "output_type": "stream",
          "name": "stdout",
          "text": [
            "Index(['0', 'v1', 'v2'], dtype='object')\n"
          ]
        }
      ]
    },
    {
      "cell_type": "code",
      "source": [
        "X = df.v2\n",
        "Y = df.v1\n",
        "le = LabelEncoder()\n",
        "Y = le.fit_transform(Y)\n",
        "Y = Y.reshape(-1,1)"
      ],
      "metadata": {
        "id": "jDVuvEWNV8Ks"
      },
      "execution_count": 26,
      "outputs": []
    },
    {
      "cell_type": "code",
      "source": [
        "X_train,X_test,Y_train,Y_test = train_test_split(X,Y,test_size=0.15)"
      ],
      "metadata": {
        "id": "StDc0d3_YNIB"
      },
      "execution_count": 27,
      "outputs": []
    },
    {
      "cell_type": "code",
      "source": [
        "from keras.utils import pad_sequences\n",
        "\n",
        "max_words = 1000\n",
        "max_len = 150\n",
        "tok = Tokenizer(num_words=max_words)\n",
        "tok.fit_on_texts(X_train)\n",
        "sequences = tok.texts_to_sequences(X_train)\n",
        "sequences_matrix = pad_sequences(sequences,maxlen=max_len)"
      ],
      "metadata": {
        "id": "fR8xfivfY2Cq"
      },
      "execution_count": 29,
      "outputs": []
    },
    {
      "cell_type": "code",
      "source": [
        "def RNN():\n",
        "    inputs = Input(name='inputs',shape=[max_len])\n",
        "    layer = Embedding(max_words,50,input_length=max_len)(inputs)\n",
        "    layer = LSTM(128)(layer)\n",
        "    layer = Dense(256,name='FC1')(layer)\n",
        "    layer = Activation('relu')(layer)\n",
        "    layer = Dropout(0.5)(layer)\n",
        "    layer = Dense(128)(layer)  # Additional Dense layer\n",
        "    layer = Activation('relu')(layer)  # Changed activation function to 'relu'\n",
        "    layer = Dropout(0.3)(layer)  # Adjusted dropout rate\n",
        "    layer = Dense(1,name='out_layer')(layer)\n",
        "    layer = Activation('sigmoid')(layer)\n",
        "    model = Model(inputs=inputs,outputs=layer)\n",
        "    return model"
      ],
      "metadata": {
        "id": "8Wv1BmkqY6gR"
      },
      "execution_count": 30,
      "outputs": []
    },
    {
      "cell_type": "code",
      "source": [
        "model = RNN()\n",
        "model.summary()\n",
        "model.compile(loss='binary_crossentropy',optimizer=RMSprop(),metrics=['accuracy'])"
      ],
      "metadata": {
        "id": "h_6NxXPyZhw9",
        "outputId": "faeb1eff-65dd-45ca-f92a-32590fefbeb6",
        "colab": {
          "base_uri": "https://localhost:8080/"
        }
      },
      "execution_count": 31,
      "outputs": [
        {
          "output_type": "stream",
          "name": "stdout",
          "text": [
            "Model: \"model_1\"\n",
            "_________________________________________________________________\n",
            " Layer (type)                Output Shape              Param #   \n",
            "=================================================================\n",
            " inputs (InputLayer)         [(None, 150)]             0         \n",
            "                                                                 \n",
            " embedding_1 (Embedding)     (None, 150, 50)           50000     \n",
            "                                                                 \n",
            " lstm_1 (LSTM)               (None, 128)               91648     \n",
            "                                                                 \n",
            " FC1 (Dense)                 (None, 256)               33024     \n",
            "                                                                 \n",
            " activation_2 (Activation)   (None, 256)               0         \n",
            "                                                                 \n",
            " dropout_1 (Dropout)         (None, 256)               0         \n",
            "                                                                 \n",
            " dense (Dense)               (None, 128)               32896     \n",
            "                                                                 \n",
            " activation_3 (Activation)   (None, 128)               0         \n",
            "                                                                 \n",
            " dropout_2 (Dropout)         (None, 128)               0         \n",
            "                                                                 \n",
            " out_layer (Dense)           (None, 1)                 129       \n",
            "                                                                 \n",
            " activation_4 (Activation)   (None, 1)                 0         \n",
            "                                                                 \n",
            "=================================================================\n",
            "Total params: 207,697\n",
            "Trainable params: 207,697\n",
            "Non-trainable params: 0\n",
            "_________________________________________________________________\n"
          ]
        }
      ]
    },
    {
      "cell_type": "code",
      "source": [
        "model.fit(sequences_matrix,Y_train,batch_size=128,epochs=30,\n",
        "          validation_split=0.2,callbacks=[EarlyStopping(monitor='val_loss',min_delta=0.0001)])"
      ],
      "metadata": {
        "id": "DaaTSTr4Zk6l",
        "outputId": "07d4be0e-1e55-4c5b-9b45-f9d53b0f25f2",
        "colab": {
          "base_uri": "https://localhost:8080/"
        }
      },
      "execution_count": 32,
      "outputs": [
        {
          "output_type": "stream",
          "name": "stdout",
          "text": [
            "Epoch 1/30\n",
            "8500/8500 [==============================] - 123s 14ms/step - loss: -76425495314432.0000 - accuracy: 9.1912e-07 - val_loss: -302130011308032.0000 - val_accuracy: 0.0000e+00\n",
            "Epoch 2/30\n",
            "8500/8500 [==============================] - 120s 14ms/step - loss: -1116446683824128.0000 - accuracy: 9.1912e-07 - val_loss: -2372214053666816.0000 - val_accuracy: 0.0000e+00\n",
            "Epoch 3/30\n",
            "8500/8500 [==============================] - 119s 14ms/step - loss: -4794465550073856.0000 - accuracy: 9.1912e-07 - val_loss: -7953270651748352.0000 - val_accuracy: 0.0000e+00\n",
            "Epoch 4/30\n",
            "8500/8500 [==============================] - 120s 14ms/step - loss: -12855584441237504.0000 - accuracy: 9.1912e-07 - val_loss: -18785987236724736.0000 - val_accuracy: 0.0000e+00\n",
            "Epoch 5/30\n",
            "8500/8500 [==============================] - 119s 14ms/step - loss: -27025366598025216.0000 - accuracy: 9.1912e-07 - val_loss: -36611907548872704.0000 - val_accuracy: 0.0000e+00\n",
            "Epoch 6/30\n",
            "8500/8500 [==============================] - 117s 14ms/step - loss: -49064112956637184.0000 - accuracy: 9.1912e-07 - val_loss: -63172389034262528.0000 - val_accuracy: 0.0000e+00\n",
            "Epoch 7/30\n",
            "8500/8500 [==============================] - 118s 14ms/step - loss: -80740660700774400.0000 - accuracy: 9.1912e-07 - val_loss: -100252920464801792.0000 - val_accuracy: 0.0000e+00\n",
            "Epoch 8/30\n",
            "8500/8500 [==============================] - 114s 13ms/step - loss: -123781197988888576.0000 - accuracy: 9.1912e-07 - val_loss: -149669439783043072.0000 - val_accuracy: 0.0000e+00\n",
            "Epoch 9/30\n",
            "8500/8500 [==============================] - 116s 14ms/step - loss: -180104608834650112.0000 - accuracy: 9.1912e-07 - val_loss: -213223118833975296.0000 - val_accuracy: 0.0000e+00\n",
            "Epoch 10/30\n",
            "8500/8500 [==============================] - 114s 13ms/step - loss: -251455663572516864.0000 - accuracy: 9.1912e-07 - val_loss: -292695424152633344.0000 - val_accuracy: 0.0000e+00\n",
            "Epoch 11/30\n",
            "8500/8500 [==============================] - 112s 13ms/step - loss: -339669928145584128.0000 - accuracy: 9.1912e-07 - val_loss: -389886273453555712.0000 - val_accuracy: 0.0000e+00\n",
            "Epoch 12/30\n",
            "8500/8500 [==============================] - 112s 13ms/step - loss: -446411101085630464.0000 - accuracy: 9.1912e-07 - val_loss: -506568096660586496.0000 - val_accuracy: 0.0000e+00\n",
            "Epoch 13/30\n",
            "8500/8500 [==============================] - 113s 13ms/step - loss: -573420087256547328.0000 - accuracy: 9.1912e-07 - val_loss: -644535159311302656.0000 - val_accuracy: 0.0000e+00\n",
            "Epoch 14/30\n",
            "8500/8500 [==============================] - 112s 13ms/step - loss: -722584679403749376.0000 - accuracy: 9.1912e-07 - val_loss: -805577672494153728.0000 - val_accuracy: 0.0000e+00\n",
            "Epoch 15/30\n",
            "8500/8500 [==============================] - 113s 13ms/step - loss: -896044733313318912.0000 - accuracy: 9.1912e-07 - val_loss: -991493406440030208.0000 - val_accuracy: 0.0000e+00\n",
            "Epoch 16/30\n",
            "8500/8500 [==============================] - 114s 13ms/step - loss: -1095019504301244416.0000 - accuracy: 9.1912e-07 - val_loss: -1204055667246104576.0000 - val_accuracy: 0.0000e+00\n",
            "Epoch 17/30\n",
            "8500/8500 [==============================] - 113s 13ms/step - loss: -1321755225903595520.0000 - accuracy: 9.1912e-07 - val_loss: -1445082634827857920.0000 - val_accuracy: 0.0000e+00\n",
            "Epoch 18/30\n",
            "8500/8500 [==============================] - 114s 13ms/step - loss: -1577659135564972032.0000 - accuracy: 9.1912e-07 - val_loss: -1716480312592039936.0000 - val_accuracy: 0.0000e+00\n",
            "Epoch 19/30\n",
            "8500/8500 [==============================] - 116s 14ms/step - loss: -1864457535260459008.0000 - accuracy: 9.1912e-07 - val_loss: -2020044615343669248.0000 - val_accuracy: 0.0000e+00\n",
            "Epoch 20/30\n",
            "8500/8500 [==============================] - 116s 14ms/step - loss: -2185344368829792256.0000 - accuracy: 9.1912e-07 - val_loss: -2357610490550550528.0000 - val_accuracy: 0.0000e+00\n",
            "Epoch 21/30\n",
            "8500/8500 [==============================] - 119s 14ms/step - loss: -2540329256999714816.0000 - accuracy: 9.1912e-07 - val_loss: -2730977426430492672.0000 - val_accuracy: 0.0000e+00\n",
            "Epoch 22/30\n",
            "8500/8500 [==============================] - 117s 14ms/step - loss: -2931818343528660992.0000 - accuracy: 9.1912e-07 - val_loss: -3141952607782699008.0000 - val_accuracy: 0.0000e+00\n",
            "Epoch 23/30\n",
            "8500/8500 [==============================] - 117s 14ms/step - loss: -3362540478837817344.0000 - accuracy: 9.1912e-07 - val_loss: -3592354626839511040.0000 - val_accuracy: 0.0000e+00\n",
            "Epoch 24/30\n",
            "8500/8500 [==============================] - 119s 14ms/step - loss: -3832886814188765184.0000 - accuracy: 9.1912e-07 - val_loss: -4083974038286761984.0000 - val_accuracy: 0.0000e+00\n",
            "Epoch 25/30\n",
            "8500/8500 [==============================] - 118s 14ms/step - loss: -4346254565633425408.0000 - accuracy: 9.1912e-07 - val_loss: -4618644277763768320.0000 - val_accuracy: 0.0000e+00\n",
            "Epoch 26/30\n",
            "8500/8500 [==============================] - 118s 14ms/step - loss: -4901718494137024512.0000 - accuracy: 9.1912e-07 - val_loss: -5198161122636595200.0000 - val_accuracy: 0.0000e+00\n",
            "Epoch 27/30\n",
            "8500/8500 [==============================] - 114s 13ms/step - loss: -5505309146100006912.0000 - accuracy: 9.1912e-07 - val_loss: -5824370927806185472.0000 - val_accuracy: 0.0000e+00\n",
            "Epoch 28/30\n",
            "8500/8500 [==============================] - 116s 14ms/step - loss: -6155297539487694848.0000 - accuracy: 9.1912e-07 - val_loss: -6499013120667680768.0000 - val_accuracy: 0.0000e+00\n",
            "Epoch 29/30\n",
            "8500/8500 [==============================] - 115s 14ms/step - loss: -6854849718032269312.0000 - accuracy: 9.1912e-07 - val_loss: -7223972264151089152.0000 - val_accuracy: 0.0000e+00\n",
            "Epoch 30/30\n",
            "8500/8500 [==============================] - 115s 13ms/step - loss: -7605629242826555392.0000 - accuracy: 9.1912e-07 - val_loss: -8001019671488757760.0000 - val_accuracy: 0.0000e+00\n"
          ]
        },
        {
          "output_type": "execute_result",
          "data": {
            "text/plain": [
              "<keras.callbacks.History at 0x7af0701123b0>"
            ]
          },
          "metadata": {},
          "execution_count": 32
        }
      ]
    },
    {
      "cell_type": "code",
      "source": [
        "test_sequences = tok.texts_to_sequences(X_test)\n",
        "test_sequences_matrix = pad_sequences(test_sequences,maxlen=max_len)"
      ],
      "metadata": {
        "id": "WZZsBKCRZoZi"
      },
      "execution_count": 33,
      "outputs": []
    },
    {
      "cell_type": "code",
      "source": [
        "accr = model.evaluate(test_sequences_matrix,Y_test)"
      ],
      "metadata": {
        "id": "EOCwtanVZrrg",
        "outputId": "2e9ebe3d-82ec-4341-bf73-3bc996998d62",
        "colab": {
          "base_uri": "https://localhost:8080/"
        }
      },
      "execution_count": 34,
      "outputs": [
        {
          "output_type": "stream",
          "name": "stdout",
          "text": [
            "7500/7500 [==============================] - 38s 5ms/step - loss: -7986348887839342592.0000 - accuracy: 0.0000e+00\n"
          ]
        }
      ]
    },
    {
      "cell_type": "code",
      "source": [
        "print('Test set\\n  Loss: {:0.3f}\\n  Accuracy: {:0.3f}'.format(accr[0],accr[1]))"
      ],
      "metadata": {
        "id": "pwAJ1txfZuDm",
        "outputId": "2834f11a-93d5-4c04-c3ec-69ea4668e1fa",
        "colab": {
          "base_uri": "https://localhost:8080/"
        }
      },
      "execution_count": 35,
      "outputs": [
        {
          "output_type": "stream",
          "name": "stdout",
          "text": [
            "Test set\n",
            "  Loss: -7986348887839342592.000\n",
            "  Accuracy: 0.000\n"
          ]
        }
      ]
    }
  ]
}