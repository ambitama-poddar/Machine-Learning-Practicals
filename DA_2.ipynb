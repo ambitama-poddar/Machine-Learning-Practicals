{
  "nbformat": 4,
  "nbformat_minor": 0,
  "metadata": {
    "colab": {
      "provenance": [],
      "authorship_tag": "ABX9TyNxgwOfRPFU8VKy1Zz2lq+Y",
      "include_colab_link": true
    },
    "kernelspec": {
      "name": "python3",
      "display_name": "Python 3"
    },
    "language_info": {
      "name": "python"
    }
  },
  "cells": [
    {
      "cell_type": "markdown",
      "metadata": {
        "id": "view-in-github",
        "colab_type": "text"
      },
      "source": [
        "<a href=\"https://colab.research.google.com/github/ambitama-poddar/Machine-Learning-Practicals/blob/main/DA_2.ipynb\" target=\"_parent\"><img src=\"https://colab.research.google.com/assets/colab-badge.svg\" alt=\"Open In Colab\"/></a>"
      ]
    },
    {
      "cell_type": "markdown",
      "source": [
        "##**-Submitted by Ambitama Poddar(22MCA0106)**\n",
        "\n",
        "##**Digital Assessment-2**"
      ],
      "metadata": {
        "id": "QWT10lWYcOVT"
      }
    },
    {
      "cell_type": "markdown",
      "source": [
        "##**1a. NAND gate simulation**"
      ],
      "metadata": {
        "id": "PrJtnRReccTf"
      }
    },
    {
      "cell_type": "code",
      "source": [
        "import tensorflow as tf\n",
        "import numpy as np"
      ],
      "metadata": {
        "id": "9hx0OuTucg-O"
      },
      "execution_count": 1,
      "outputs": []
    },
    {
      "cell_type": "code",
      "source": [
        "X1=tf.Variable(initial_value=[0.,1.,0.,1.])\n",
        "X2=tf.Variable(initial_value=[0.,0.,1.,1.])\n",
        "Y_NAND=tf.Variable(initial_value=[1.,1.,1.,0.])"
      ],
      "metadata": {
        "id": "1UCDsw08cjQi"
      },
      "execution_count": 2,
      "outputs": []
    },
    {
      "cell_type": "code",
      "source": [
        "#Defining the model\n",
        "class Model(object):\n",
        "\n",
        "   def __init__(self):\n",
        "        self.W1 = tf.Variable(initial_value=tf.random.normal([1]))\n",
        "        self.W2 = tf.Variable(initial_value=tf.random.normal([1]))\n",
        "        self.b = tf.Variable(initial_value=tf.random.normal([1]))\n",
        "\n",
        "   def __call__(self, x1,x2):\n",
        "        self.K1=self.W1 * x1 + self.W2 * x2 + self.b\n",
        "        self.Output = tf.keras.activations.sigmoid(self.K1)\n",
        "        return(self.Output)\n",
        "\n",
        "model=Model()"
      ],
      "metadata": {
        "id": "Xu39OzTyclMD"
      },
      "execution_count": 3,
      "outputs": []
    },
    {
      "cell_type": "code",
      "source": [
        "#Cost function\n",
        "def compute_cost(target_y, predicted_y):\n",
        "    c=tf.keras.losses.BinaryCrossentropy()\n",
        "    return(c(target_y,predicted_y))"
      ],
      "metadata": {
        "id": "2-QI6kyZcnRJ"
      },
      "execution_count": 4,
      "outputs": []
    },
    {
      "cell_type": "code",
      "source": [
        "def None_to_Zero(v):\n",
        "    if v==None:\n",
        "        v=0\n",
        "    return v"
      ],
      "metadata": {
        "id": "mJrf_LqHcpgT"
      },
      "execution_count": 5,
      "outputs": []
    },
    {
      "cell_type": "code",
      "source": [
        "def train(model, X1, X2, Y2, learning_rate):\n",
        "    with tf.GradientTape() as t:\n",
        "        current_loss = compute_cost(Y2, model(X1, X2))\n",
        "    dW1, dW2, db = t.gradient(current_loss, [model.W1, model.W2, model.b])\n",
        "    dW1 = None_to_Zero(dW1)\n",
        "    db = None_to_Zero(db)\n",
        "    dW2 = None_to_Zero(dW2)\n",
        "    model.W1.assign_sub(learning_rate * dW1)\n",
        "    model.b.assign_sub(learning_rate * db)\n",
        "    model.W2.assign_sub(learning_rate * dW2)"
      ],
      "metadata": {
        "id": "7BeFl9DRcrll"
      },
      "execution_count": 6,
      "outputs": []
    },
    {
      "cell_type": "code",
      "source": [
        "epochs = range(1000)\n",
        "learning_rate = 0.1\n",
        "for epoch in epochs:\n",
        "    train(model, X1, X2, Y_NAND, learning_rate)\n",
        "\n",
        "# Once the training is done we can find results by calling the Model Class object as\n",
        "print(np.round(model(X1, X2).numpy()))"
      ],
      "metadata": {
        "colab": {
          "base_uri": "https://localhost:8080/"
        },
        "id": "y5Z6Ddbscu98",
        "outputId": "57431431-816f-454d-c8d5-42d0993f3308"
      },
      "execution_count": 7,
      "outputs": [
        {
          "output_type": "stream",
          "name": "stdout",
          "text": [
            "[1. 1. 1. 0.]\n"
          ]
        }
      ]
    },
    {
      "cell_type": "code",
      "source": [
        "W_NAND = {'W1': round(model.W1.numpy()[0], 6),\n",
        "          'W2': round(model.W2.numpy()[0], 6),\n",
        "          'b': round(model.b.numpy()[0], 6)}"
      ],
      "metadata": {
        "id": "i2BhVzYIcykh"
      },
      "execution_count": 8,
      "outputs": []
    },
    {
      "cell_type": "code",
      "source": [
        "W_NAND"
      ],
      "metadata": {
        "colab": {
          "base_uri": "https://localhost:8080/"
        },
        "id": "DmDbs4nvc29O",
        "outputId": "caa68c60-ba4b-40ba-aa9c-92967287a71f"
      },
      "execution_count": 9,
      "outputs": [
        {
          "output_type": "execute_result",
          "data": {
            "text/plain": [
              "{'W1': -2.988197, 'W2': -2.961297, 'b': 4.681455}"
            ]
          },
          "metadata": {},
          "execution_count": 9
        }
      ]
    },
    {
      "cell_type": "markdown",
      "source": [
        "##**1b. Three input AND gate simulation**"
      ],
      "metadata": {
        "id": "EfzPnrAKc7vN"
      }
    },
    {
      "cell_type": "code",
      "source": [
        "X1 = tf.Variable(initial_value=[0., 0., 0., 0., 1., 1., 1., 1.])\n",
        "X2 = tf.Variable(initial_value=[0., 0., 1., 1., 0., 0., 1., 1.])\n",
        "X3 = tf.Variable(initial_value=[0., 1., 0., 1., 0., 1., 0., 1.])\n",
        "Y_AND = tf.Variable(initial_value=[0., 0., 0., 0., 0., 0., 0., 1.])"
      ],
      "metadata": {
        "id": "ichn6vYPdGuP"
      },
      "execution_count": 10,
      "outputs": []
    },
    {
      "cell_type": "code",
      "source": [
        "class Model(object):\n",
        "    def __init__(self):\n",
        "        self.W1 = tf.Variable(initial_value=tf.random.normal([1]))\n",
        "        self.W2 = tf.Variable(initial_value=tf.random.normal([1]))\n",
        "        self.W3 = tf.Variable(initial_value=tf.random.normal([1]))\n",
        "        self.b = tf.Variable(initial_value=tf.random.normal([1]))\n",
        "\n",
        "    def __call__(self, x1, x2, x3):\n",
        "        self.K1 = self.W1 * x1 + self.W2 * x2 + self.W3 * x3 + self.b\n",
        "        self.Output = tf.keras.activations.sigmoid(self.K1)\n",
        "        return self.Output\n",
        "\n",
        "\n",
        "model = Model()"
      ],
      "metadata": {
        "id": "fR1IniOOdMg6"
      },
      "execution_count": 11,
      "outputs": []
    },
    {
      "cell_type": "code",
      "source": [
        "def compute_cost(target_y, predicted_y):\n",
        "    c = tf.keras.losses.BinaryCrossentropy()\n",
        "    return c(target_y, predicted_y)"
      ],
      "metadata": {
        "id": "QgM0J_u6dP3T"
      },
      "execution_count": 12,
      "outputs": []
    },
    {
      "cell_type": "code",
      "source": [
        "def None_to_Zero(v):\n",
        "    if v == None:\n",
        "        v = 0\n",
        "    return v"
      ],
      "metadata": {
        "id": "iowb9Q2PdQy_"
      },
      "execution_count": 13,
      "outputs": []
    },
    {
      "cell_type": "code",
      "source": [
        "def train(model, X1, X2, X3, Y, learning_rate):\n",
        "    with tf.GradientTape() as t:\n",
        "        current_loss = compute_cost(Y, model(X1, X2, X3))\n",
        "    dW1, dW2, dW3, db = t.gradient(current_loss, [model.W1, model.W2, model.W3, model.b])\n",
        "    dW1 = None_to_Zero(dW1)\n",
        "    dW2 = None_to_Zero(dW2)\n",
        "    dW3 = None_to_Zero(dW3)\n",
        "    db = None_to_Zero(db)\n",
        "    model.W1.assign_sub(learning_rate * dW1)\n",
        "    model.W2.assign_sub(learning_rate * dW2)\n",
        "    model.W3.assign_sub(learning_rate * dW3)\n",
        "    model.b.assign_sub(learning_rate * db)"
      ],
      "metadata": {
        "id": "vyteLTSCdS-o"
      },
      "execution_count": 14,
      "outputs": []
    },
    {
      "cell_type": "code",
      "source": [
        "epochs = range(1000)\n",
        "learning_rate = 0.1\n",
        "for epoch in epochs:\n",
        "    train(model, X1, X2, X3, Y_AND, learning_rate)\n",
        "\n",
        "# Once the training is done we can find results by calling the Model Class object as\n",
        "print(np.round(model(X1, X2, X3).numpy()))"
      ],
      "metadata": {
        "colab": {
          "base_uri": "https://localhost:8080/"
        },
        "id": "6jJIJDM7dU9t",
        "outputId": "ac837f21-441a-4bbe-af03-b42835c17c06"
      },
      "execution_count": 15,
      "outputs": [
        {
          "output_type": "stream",
          "name": "stdout",
          "text": [
            "[0. 0. 0. 0. 0. 0. 0. 1.]\n"
          ]
        }
      ]
    },
    {
      "cell_type": "code",
      "source": [
        "W_AND = {'W1': round(model.W1.numpy()[0], 6),\n",
        "          'W2': round(model.W2.numpy()[0], 6),\n",
        "          'W3': round(model.W2.numpy()[0], 6),\n",
        "          'b': round(model.b.numpy()[0], 6)}"
      ],
      "metadata": {
        "id": "0C_SaUNKdYwo"
      },
      "execution_count": 16,
      "outputs": []
    },
    {
      "cell_type": "code",
      "source": [
        "W_AND"
      ],
      "metadata": {
        "colab": {
          "base_uri": "https://localhost:8080/"
        },
        "id": "XoaB6rYcdbz6",
        "outputId": "05482cb8-765c-4bc9-b1d6-ce7d7c2ee0ff"
      },
      "execution_count": 17,
      "outputs": [
        {
          "output_type": "execute_result",
          "data": {
            "text/plain": [
              "{'W1': 1.628643, 'W2': 1.620811, 'W3': 1.620811, 'b': -4.751708}"
            ]
          },
          "metadata": {},
          "execution_count": 17
        }
      ]
    },
    {
      "cell_type": "markdown",
      "source": [
        "#**2. Implementing a neural network model to classify the Penguin Species dataset**"
      ],
      "metadata": {
        "id": "nrTaXFIubFOH"
      }
    },
    {
      "cell_type": "code",
      "execution_count": 18,
      "metadata": {
        "id": "FKsBQ0zmYpSW"
      },
      "outputs": [],
      "source": [
        "import pandas as pd\n",
        "import numpy as np\n",
        "import os\n",
        "\n",
        "# Plotting libraries\n",
        "import matplotlib.pyplot as plt\n",
        "\n",
        "# SKLearn libraries\n",
        "from sklearn.preprocessing import LabelEncoder\n",
        "from sklearn.model_selection import train_test_split\n",
        "\n",
        "# Tensorflow libraries\n",
        "import tensorflow as tf\n",
        "from tensorflow import keras\n",
        "from tensorflow.keras.models import Sequential\n",
        "from tensorflow.keras.layers import BatchNormalization"
      ]
    },
    {
      "cell_type": "code",
      "source": [
        "# Data file path\n",
        "FILE_PATH = 'penguins_size.csv'"
      ],
      "metadata": {
        "id": "8lVJM7kZYwOq"
      },
      "execution_count": 19,
      "outputs": []
    },
    {
      "cell_type": "code",
      "source": [
        "# Dataframe from csv file\n",
        "penguins_data = pd.read_csv(FILE_PATH)"
      ],
      "metadata": {
        "id": "luCCxTyAY7n5"
      },
      "execution_count": 20,
      "outputs": []
    },
    {
      "cell_type": "markdown",
      "source": [
        "##Preprocessing"
      ],
      "metadata": {
        "id": "bcAwWfJBbepN"
      }
    },
    {
      "cell_type": "code",
      "source": [
        "penguins_data.info()"
      ],
      "metadata": {
        "colab": {
          "base_uri": "https://localhost:8080/"
        },
        "id": "FJ4JBqUQY98u",
        "outputId": "bf5f1bfd-d277-4d9c-da27-c02325415908"
      },
      "execution_count": 21,
      "outputs": [
        {
          "output_type": "stream",
          "name": "stdout",
          "text": [
            "<class 'pandas.core.frame.DataFrame'>\n",
            "RangeIndex: 344 entries, 0 to 343\n",
            "Data columns (total 7 columns):\n",
            " #   Column             Non-Null Count  Dtype  \n",
            "---  ------             --------------  -----  \n",
            " 0   species            344 non-null    object \n",
            " 1   island             344 non-null    object \n",
            " 2   culmen_length_mm   342 non-null    float64\n",
            " 3   culmen_depth_mm    342 non-null    float64\n",
            " 4   flipper_length_mm  342 non-null    float64\n",
            " 5   body_mass_g        342 non-null    float64\n",
            " 6   sex                334 non-null    object \n",
            "dtypes: float64(4), object(3)\n",
            "memory usage: 18.9+ KB\n"
          ]
        }
      ]
    },
    {
      "cell_type": "code",
      "source": [
        "penguins_data.head(10)"
      ],
      "metadata": {
        "colab": {
          "base_uri": "https://localhost:8080/",
          "height": 363
        },
        "id": "TCjOs5H1ZBi-",
        "outputId": "683c9702-0873-4859-cfc4-8b1efa3fed61"
      },
      "execution_count": 22,
      "outputs": [
        {
          "output_type": "execute_result",
          "data": {
            "text/plain": [
              "  species     island  culmen_length_mm  culmen_depth_mm  flipper_length_mm  \\\n",
              "0  Adelie  Torgersen              39.1             18.7              181.0   \n",
              "1  Adelie  Torgersen              39.5             17.4              186.0   \n",
              "2  Adelie  Torgersen              40.3             18.0              195.0   \n",
              "3  Adelie  Torgersen               NaN              NaN                NaN   \n",
              "4  Adelie  Torgersen              36.7             19.3              193.0   \n",
              "5  Adelie  Torgersen              39.3             20.6              190.0   \n",
              "6  Adelie  Torgersen              38.9             17.8              181.0   \n",
              "7  Adelie  Torgersen              39.2             19.6              195.0   \n",
              "8  Adelie  Torgersen              34.1             18.1              193.0   \n",
              "9  Adelie  Torgersen              42.0             20.2              190.0   \n",
              "\n",
              "   body_mass_g     sex  \n",
              "0       3750.0    MALE  \n",
              "1       3800.0  FEMALE  \n",
              "2       3250.0  FEMALE  \n",
              "3          NaN     NaN  \n",
              "4       3450.0  FEMALE  \n",
              "5       3650.0    MALE  \n",
              "6       3625.0  FEMALE  \n",
              "7       4675.0    MALE  \n",
              "8       3475.0     NaN  \n",
              "9       4250.0     NaN  "
            ],
            "text/html": [
              "\n",
              "\n",
              "  <div id=\"df-4ba4df17-421b-4a66-a336-3d682b3ac096\">\n",
              "    <div class=\"colab-df-container\">\n",
              "      <div>\n",
              "<style scoped>\n",
              "    .dataframe tbody tr th:only-of-type {\n",
              "        vertical-align: middle;\n",
              "    }\n",
              "\n",
              "    .dataframe tbody tr th {\n",
              "        vertical-align: top;\n",
              "    }\n",
              "\n",
              "    .dataframe thead th {\n",
              "        text-align: right;\n",
              "    }\n",
              "</style>\n",
              "<table border=\"1\" class=\"dataframe\">\n",
              "  <thead>\n",
              "    <tr style=\"text-align: right;\">\n",
              "      <th></th>\n",
              "      <th>species</th>\n",
              "      <th>island</th>\n",
              "      <th>culmen_length_mm</th>\n",
              "      <th>culmen_depth_mm</th>\n",
              "      <th>flipper_length_mm</th>\n",
              "      <th>body_mass_g</th>\n",
              "      <th>sex</th>\n",
              "    </tr>\n",
              "  </thead>\n",
              "  <tbody>\n",
              "    <tr>\n",
              "      <th>0</th>\n",
              "      <td>Adelie</td>\n",
              "      <td>Torgersen</td>\n",
              "      <td>39.1</td>\n",
              "      <td>18.7</td>\n",
              "      <td>181.0</td>\n",
              "      <td>3750.0</td>\n",
              "      <td>MALE</td>\n",
              "    </tr>\n",
              "    <tr>\n",
              "      <th>1</th>\n",
              "      <td>Adelie</td>\n",
              "      <td>Torgersen</td>\n",
              "      <td>39.5</td>\n",
              "      <td>17.4</td>\n",
              "      <td>186.0</td>\n",
              "      <td>3800.0</td>\n",
              "      <td>FEMALE</td>\n",
              "    </tr>\n",
              "    <tr>\n",
              "      <th>2</th>\n",
              "      <td>Adelie</td>\n",
              "      <td>Torgersen</td>\n",
              "      <td>40.3</td>\n",
              "      <td>18.0</td>\n",
              "      <td>195.0</td>\n",
              "      <td>3250.0</td>\n",
              "      <td>FEMALE</td>\n",
              "    </tr>\n",
              "    <tr>\n",
              "      <th>3</th>\n",
              "      <td>Adelie</td>\n",
              "      <td>Torgersen</td>\n",
              "      <td>NaN</td>\n",
              "      <td>NaN</td>\n",
              "      <td>NaN</td>\n",
              "      <td>NaN</td>\n",
              "      <td>NaN</td>\n",
              "    </tr>\n",
              "    <tr>\n",
              "      <th>4</th>\n",
              "      <td>Adelie</td>\n",
              "      <td>Torgersen</td>\n",
              "      <td>36.7</td>\n",
              "      <td>19.3</td>\n",
              "      <td>193.0</td>\n",
              "      <td>3450.0</td>\n",
              "      <td>FEMALE</td>\n",
              "    </tr>\n",
              "    <tr>\n",
              "      <th>5</th>\n",
              "      <td>Adelie</td>\n",
              "      <td>Torgersen</td>\n",
              "      <td>39.3</td>\n",
              "      <td>20.6</td>\n",
              "      <td>190.0</td>\n",
              "      <td>3650.0</td>\n",
              "      <td>MALE</td>\n",
              "    </tr>\n",
              "    <tr>\n",
              "      <th>6</th>\n",
              "      <td>Adelie</td>\n",
              "      <td>Torgersen</td>\n",
              "      <td>38.9</td>\n",
              "      <td>17.8</td>\n",
              "      <td>181.0</td>\n",
              "      <td>3625.0</td>\n",
              "      <td>FEMALE</td>\n",
              "    </tr>\n",
              "    <tr>\n",
              "      <th>7</th>\n",
              "      <td>Adelie</td>\n",
              "      <td>Torgersen</td>\n",
              "      <td>39.2</td>\n",
              "      <td>19.6</td>\n",
              "      <td>195.0</td>\n",
              "      <td>4675.0</td>\n",
              "      <td>MALE</td>\n",
              "    </tr>\n",
              "    <tr>\n",
              "      <th>8</th>\n",
              "      <td>Adelie</td>\n",
              "      <td>Torgersen</td>\n",
              "      <td>34.1</td>\n",
              "      <td>18.1</td>\n",
              "      <td>193.0</td>\n",
              "      <td>3475.0</td>\n",
              "      <td>NaN</td>\n",
              "    </tr>\n",
              "    <tr>\n",
              "      <th>9</th>\n",
              "      <td>Adelie</td>\n",
              "      <td>Torgersen</td>\n",
              "      <td>42.0</td>\n",
              "      <td>20.2</td>\n",
              "      <td>190.0</td>\n",
              "      <td>4250.0</td>\n",
              "      <td>NaN</td>\n",
              "    </tr>\n",
              "  </tbody>\n",
              "</table>\n",
              "</div>\n",
              "      <button class=\"colab-df-convert\" onclick=\"convertToInteractive('df-4ba4df17-421b-4a66-a336-3d682b3ac096')\"\n",
              "              title=\"Convert this dataframe to an interactive table.\"\n",
              "              style=\"display:none;\">\n",
              "\n",
              "  <svg xmlns=\"http://www.w3.org/2000/svg\" height=\"24px\"viewBox=\"0 0 24 24\"\n",
              "       width=\"24px\">\n",
              "    <path d=\"M0 0h24v24H0V0z\" fill=\"none\"/>\n",
              "    <path d=\"M18.56 5.44l.94 2.06.94-2.06 2.06-.94-2.06-.94-.94-2.06-.94 2.06-2.06.94zm-11 1L8.5 8.5l.94-2.06 2.06-.94-2.06-.94L8.5 2.5l-.94 2.06-2.06.94zm10 10l.94 2.06.94-2.06 2.06-.94-2.06-.94-.94-2.06-.94 2.06-2.06.94z\"/><path d=\"M17.41 7.96l-1.37-1.37c-.4-.4-.92-.59-1.43-.59-.52 0-1.04.2-1.43.59L10.3 9.45l-7.72 7.72c-.78.78-.78 2.05 0 2.83L4 21.41c.39.39.9.59 1.41.59.51 0 1.02-.2 1.41-.59l7.78-7.78 2.81-2.81c.8-.78.8-2.07 0-2.86zM5.41 20L4 18.59l7.72-7.72 1.47 1.35L5.41 20z\"/>\n",
              "  </svg>\n",
              "      </button>\n",
              "\n",
              "\n",
              "\n",
              "    <div id=\"df-fbe83201-66ba-4f29-b68c-6a4f0ac37fd7\">\n",
              "      <button class=\"colab-df-quickchart\" onclick=\"quickchart('df-fbe83201-66ba-4f29-b68c-6a4f0ac37fd7')\"\n",
              "              title=\"Suggest charts.\"\n",
              "              style=\"display:none;\">\n",
              "\n",
              "<svg xmlns=\"http://www.w3.org/2000/svg\" height=\"24px\"viewBox=\"0 0 24 24\"\n",
              "     width=\"24px\">\n",
              "    <g>\n",
              "        <path d=\"M19 3H5c-1.1 0-2 .9-2 2v14c0 1.1.9 2 2 2h14c1.1 0 2-.9 2-2V5c0-1.1-.9-2-2-2zM9 17H7v-7h2v7zm4 0h-2V7h2v10zm4 0h-2v-4h2v4z\"/>\n",
              "    </g>\n",
              "</svg>\n",
              "      </button>\n",
              "    </div>\n",
              "\n",
              "<style>\n",
              "  .colab-df-quickchart {\n",
              "    background-color: #E8F0FE;\n",
              "    border: none;\n",
              "    border-radius: 50%;\n",
              "    cursor: pointer;\n",
              "    display: none;\n",
              "    fill: #1967D2;\n",
              "    height: 32px;\n",
              "    padding: 0 0 0 0;\n",
              "    width: 32px;\n",
              "  }\n",
              "\n",
              "  .colab-df-quickchart:hover {\n",
              "    background-color: #E2EBFA;\n",
              "    box-shadow: 0px 1px 2px rgba(60, 64, 67, 0.3), 0px 1px 3px 1px rgba(60, 64, 67, 0.15);\n",
              "    fill: #174EA6;\n",
              "  }\n",
              "\n",
              "  [theme=dark] .colab-df-quickchart {\n",
              "    background-color: #3B4455;\n",
              "    fill: #D2E3FC;\n",
              "  }\n",
              "\n",
              "  [theme=dark] .colab-df-quickchart:hover {\n",
              "    background-color: #434B5C;\n",
              "    box-shadow: 0px 1px 3px 1px rgba(0, 0, 0, 0.15);\n",
              "    filter: drop-shadow(0px 1px 2px rgba(0, 0, 0, 0.3));\n",
              "    fill: #FFFFFF;\n",
              "  }\n",
              "</style>\n",
              "\n",
              "    <script>\n",
              "      async function quickchart(key) {\n",
              "        const containerElement = document.querySelector('#' + key);\n",
              "        const charts = await google.colab.kernel.invokeFunction(\n",
              "            'suggestCharts', [key], {});\n",
              "      }\n",
              "    </script>\n",
              "\n",
              "      <script>\n",
              "\n",
              "function displayQuickchartButton(domScope) {\n",
              "  let quickchartButtonEl =\n",
              "    domScope.querySelector('#df-fbe83201-66ba-4f29-b68c-6a4f0ac37fd7 button.colab-df-quickchart');\n",
              "  quickchartButtonEl.style.display =\n",
              "    google.colab.kernel.accessAllowed ? 'block' : 'none';\n",
              "}\n",
              "\n",
              "        displayQuickchartButton(document);\n",
              "      </script>\n",
              "      <style>\n",
              "    .colab-df-container {\n",
              "      display:flex;\n",
              "      flex-wrap:wrap;\n",
              "      gap: 12px;\n",
              "    }\n",
              "\n",
              "    .colab-df-convert {\n",
              "      background-color: #E8F0FE;\n",
              "      border: none;\n",
              "      border-radius: 50%;\n",
              "      cursor: pointer;\n",
              "      display: none;\n",
              "      fill: #1967D2;\n",
              "      height: 32px;\n",
              "      padding: 0 0 0 0;\n",
              "      width: 32px;\n",
              "    }\n",
              "\n",
              "    .colab-df-convert:hover {\n",
              "      background-color: #E2EBFA;\n",
              "      box-shadow: 0px 1px 2px rgba(60, 64, 67, 0.3), 0px 1px 3px 1px rgba(60, 64, 67, 0.15);\n",
              "      fill: #174EA6;\n",
              "    }\n",
              "\n",
              "    [theme=dark] .colab-df-convert {\n",
              "      background-color: #3B4455;\n",
              "      fill: #D2E3FC;\n",
              "    }\n",
              "\n",
              "    [theme=dark] .colab-df-convert:hover {\n",
              "      background-color: #434B5C;\n",
              "      box-shadow: 0px 1px 3px 1px rgba(0, 0, 0, 0.15);\n",
              "      filter: drop-shadow(0px 1px 2px rgba(0, 0, 0, 0.3));\n",
              "      fill: #FFFFFF;\n",
              "    }\n",
              "  </style>\n",
              "\n",
              "      <script>\n",
              "        const buttonEl =\n",
              "          document.querySelector('#df-4ba4df17-421b-4a66-a336-3d682b3ac096 button.colab-df-convert');\n",
              "        buttonEl.style.display =\n",
              "          google.colab.kernel.accessAllowed ? 'block' : 'none';\n",
              "\n",
              "        async function convertToInteractive(key) {\n",
              "          const element = document.querySelector('#df-4ba4df17-421b-4a66-a336-3d682b3ac096');\n",
              "          const dataTable =\n",
              "            await google.colab.kernel.invokeFunction('convertToInteractive',\n",
              "                                                     [key], {});\n",
              "          if (!dataTable) return;\n",
              "\n",
              "          const docLinkHtml = 'Like what you see? Visit the ' +\n",
              "            '<a target=\"_blank\" href=https://colab.research.google.com/notebooks/data_table.ipynb>data table notebook</a>'\n",
              "            + ' to learn more about interactive tables.';\n",
              "          element.innerHTML = '';\n",
              "          dataTable['output_type'] = 'display_data';\n",
              "          await google.colab.output.renderOutput(dataTable, element);\n",
              "          const docLink = document.createElement('div');\n",
              "          docLink.innerHTML = docLinkHtml;\n",
              "          element.appendChild(docLink);\n",
              "        }\n",
              "      </script>\n",
              "    </div>\n",
              "  </div>\n"
            ]
          },
          "metadata": {},
          "execution_count": 22
        }
      ]
    },
    {
      "cell_type": "code",
      "source": [
        "penguins_data = penguins_data.dropna()\n",
        "penguins_data = penguins_data[penguins_data['sex'] != '.']"
      ],
      "metadata": {
        "id": "1r925BjVZDDB"
      },
      "execution_count": 23,
      "outputs": []
    },
    {
      "cell_type": "code",
      "source": [
        "penguins_data.isna().any()"
      ],
      "metadata": {
        "colab": {
          "base_uri": "https://localhost:8080/"
        },
        "id": "iRKdeUfKZFrw",
        "outputId": "13796601-4ab7-4adf-f4e8-88d416c1c0c1"
      },
      "execution_count": 24,
      "outputs": [
        {
          "output_type": "execute_result",
          "data": {
            "text/plain": [
              "species              False\n",
              "island               False\n",
              "culmen_length_mm     False\n",
              "culmen_depth_mm      False\n",
              "flipper_length_mm    False\n",
              "body_mass_g          False\n",
              "sex                  False\n",
              "dtype: bool"
            ]
          },
          "metadata": {},
          "execution_count": 24
        }
      ]
    },
    {
      "cell_type": "markdown",
      "source": [
        "##Preparing Dataset"
      ],
      "metadata": {
        "id": "R3Js8A5hbkNh"
      }
    },
    {
      "cell_type": "code",
      "source": [
        "#One hot encoding\n",
        "one_hot_encoded = pd.get_dummies(penguins_data[['sex', 'island']])\n",
        "penguins_data.drop(['island', 'sex'], axis=1, inplace=True)\n",
        "penguins_data = pd.concat([penguins_data, one_hot_encoded], axis=1)\n",
        "penguins_data"
      ],
      "metadata": {
        "colab": {
          "base_uri": "https://localhost:8080/",
          "height": 487
        },
        "id": "H9nqQ0lOZV9R",
        "outputId": "358f8bfc-2917-4cc2-cc0b-b286ae9f82ac"
      },
      "execution_count": 25,
      "outputs": [
        {
          "output_type": "execute_result",
          "data": {
            "text/plain": [
              "    species  culmen_length_mm  culmen_depth_mm  flipper_length_mm  \\\n",
              "0    Adelie              39.1             18.7              181.0   \n",
              "1    Adelie              39.5             17.4              186.0   \n",
              "2    Adelie              40.3             18.0              195.0   \n",
              "4    Adelie              36.7             19.3              193.0   \n",
              "5    Adelie              39.3             20.6              190.0   \n",
              "..      ...               ...              ...                ...   \n",
              "338  Gentoo              47.2             13.7              214.0   \n",
              "340  Gentoo              46.8             14.3              215.0   \n",
              "341  Gentoo              50.4             15.7              222.0   \n",
              "342  Gentoo              45.2             14.8              212.0   \n",
              "343  Gentoo              49.9             16.1              213.0   \n",
              "\n",
              "     body_mass_g  sex_FEMALE  sex_MALE  island_Biscoe  island_Dream  \\\n",
              "0         3750.0           0         1              0             0   \n",
              "1         3800.0           1         0              0             0   \n",
              "2         3250.0           1         0              0             0   \n",
              "4         3450.0           1         0              0             0   \n",
              "5         3650.0           0         1              0             0   \n",
              "..           ...         ...       ...            ...           ...   \n",
              "338       4925.0           1         0              1             0   \n",
              "340       4850.0           1         0              1             0   \n",
              "341       5750.0           0         1              1             0   \n",
              "342       5200.0           1         0              1             0   \n",
              "343       5400.0           0         1              1             0   \n",
              "\n",
              "     island_Torgersen  \n",
              "0                   1  \n",
              "1                   1  \n",
              "2                   1  \n",
              "4                   1  \n",
              "5                   1  \n",
              "..                ...  \n",
              "338                 0  \n",
              "340                 0  \n",
              "341                 0  \n",
              "342                 0  \n",
              "343                 0  \n",
              "\n",
              "[333 rows x 10 columns]"
            ],
            "text/html": [
              "\n",
              "\n",
              "  <div id=\"df-7762fbc3-612b-4e79-88c4-e1c6f025b2e2\">\n",
              "    <div class=\"colab-df-container\">\n",
              "      <div>\n",
              "<style scoped>\n",
              "    .dataframe tbody tr th:only-of-type {\n",
              "        vertical-align: middle;\n",
              "    }\n",
              "\n",
              "    .dataframe tbody tr th {\n",
              "        vertical-align: top;\n",
              "    }\n",
              "\n",
              "    .dataframe thead th {\n",
              "        text-align: right;\n",
              "    }\n",
              "</style>\n",
              "<table border=\"1\" class=\"dataframe\">\n",
              "  <thead>\n",
              "    <tr style=\"text-align: right;\">\n",
              "      <th></th>\n",
              "      <th>species</th>\n",
              "      <th>culmen_length_mm</th>\n",
              "      <th>culmen_depth_mm</th>\n",
              "      <th>flipper_length_mm</th>\n",
              "      <th>body_mass_g</th>\n",
              "      <th>sex_FEMALE</th>\n",
              "      <th>sex_MALE</th>\n",
              "      <th>island_Biscoe</th>\n",
              "      <th>island_Dream</th>\n",
              "      <th>island_Torgersen</th>\n",
              "    </tr>\n",
              "  </thead>\n",
              "  <tbody>\n",
              "    <tr>\n",
              "      <th>0</th>\n",
              "      <td>Adelie</td>\n",
              "      <td>39.1</td>\n",
              "      <td>18.7</td>\n",
              "      <td>181.0</td>\n",
              "      <td>3750.0</td>\n",
              "      <td>0</td>\n",
              "      <td>1</td>\n",
              "      <td>0</td>\n",
              "      <td>0</td>\n",
              "      <td>1</td>\n",
              "    </tr>\n",
              "    <tr>\n",
              "      <th>1</th>\n",
              "      <td>Adelie</td>\n",
              "      <td>39.5</td>\n",
              "      <td>17.4</td>\n",
              "      <td>186.0</td>\n",
              "      <td>3800.0</td>\n",
              "      <td>1</td>\n",
              "      <td>0</td>\n",
              "      <td>0</td>\n",
              "      <td>0</td>\n",
              "      <td>1</td>\n",
              "    </tr>\n",
              "    <tr>\n",
              "      <th>2</th>\n",
              "      <td>Adelie</td>\n",
              "      <td>40.3</td>\n",
              "      <td>18.0</td>\n",
              "      <td>195.0</td>\n",
              "      <td>3250.0</td>\n",
              "      <td>1</td>\n",
              "      <td>0</td>\n",
              "      <td>0</td>\n",
              "      <td>0</td>\n",
              "      <td>1</td>\n",
              "    </tr>\n",
              "    <tr>\n",
              "      <th>4</th>\n",
              "      <td>Adelie</td>\n",
              "      <td>36.7</td>\n",
              "      <td>19.3</td>\n",
              "      <td>193.0</td>\n",
              "      <td>3450.0</td>\n",
              "      <td>1</td>\n",
              "      <td>0</td>\n",
              "      <td>0</td>\n",
              "      <td>0</td>\n",
              "      <td>1</td>\n",
              "    </tr>\n",
              "    <tr>\n",
              "      <th>5</th>\n",
              "      <td>Adelie</td>\n",
              "      <td>39.3</td>\n",
              "      <td>20.6</td>\n",
              "      <td>190.0</td>\n",
              "      <td>3650.0</td>\n",
              "      <td>0</td>\n",
              "      <td>1</td>\n",
              "      <td>0</td>\n",
              "      <td>0</td>\n",
              "      <td>1</td>\n",
              "    </tr>\n",
              "    <tr>\n",
              "      <th>...</th>\n",
              "      <td>...</td>\n",
              "      <td>...</td>\n",
              "      <td>...</td>\n",
              "      <td>...</td>\n",
              "      <td>...</td>\n",
              "      <td>...</td>\n",
              "      <td>...</td>\n",
              "      <td>...</td>\n",
              "      <td>...</td>\n",
              "      <td>...</td>\n",
              "    </tr>\n",
              "    <tr>\n",
              "      <th>338</th>\n",
              "      <td>Gentoo</td>\n",
              "      <td>47.2</td>\n",
              "      <td>13.7</td>\n",
              "      <td>214.0</td>\n",
              "      <td>4925.0</td>\n",
              "      <td>1</td>\n",
              "      <td>0</td>\n",
              "      <td>1</td>\n",
              "      <td>0</td>\n",
              "      <td>0</td>\n",
              "    </tr>\n",
              "    <tr>\n",
              "      <th>340</th>\n",
              "      <td>Gentoo</td>\n",
              "      <td>46.8</td>\n",
              "      <td>14.3</td>\n",
              "      <td>215.0</td>\n",
              "      <td>4850.0</td>\n",
              "      <td>1</td>\n",
              "      <td>0</td>\n",
              "      <td>1</td>\n",
              "      <td>0</td>\n",
              "      <td>0</td>\n",
              "    </tr>\n",
              "    <tr>\n",
              "      <th>341</th>\n",
              "      <td>Gentoo</td>\n",
              "      <td>50.4</td>\n",
              "      <td>15.7</td>\n",
              "      <td>222.0</td>\n",
              "      <td>5750.0</td>\n",
              "      <td>0</td>\n",
              "      <td>1</td>\n",
              "      <td>1</td>\n",
              "      <td>0</td>\n",
              "      <td>0</td>\n",
              "    </tr>\n",
              "    <tr>\n",
              "      <th>342</th>\n",
              "      <td>Gentoo</td>\n",
              "      <td>45.2</td>\n",
              "      <td>14.8</td>\n",
              "      <td>212.0</td>\n",
              "      <td>5200.0</td>\n",
              "      <td>1</td>\n",
              "      <td>0</td>\n",
              "      <td>1</td>\n",
              "      <td>0</td>\n",
              "      <td>0</td>\n",
              "    </tr>\n",
              "    <tr>\n",
              "      <th>343</th>\n",
              "      <td>Gentoo</td>\n",
              "      <td>49.9</td>\n",
              "      <td>16.1</td>\n",
              "      <td>213.0</td>\n",
              "      <td>5400.0</td>\n",
              "      <td>0</td>\n",
              "      <td>1</td>\n",
              "      <td>1</td>\n",
              "      <td>0</td>\n",
              "      <td>0</td>\n",
              "    </tr>\n",
              "  </tbody>\n",
              "</table>\n",
              "<p>333 rows × 10 columns</p>\n",
              "</div>\n",
              "      <button class=\"colab-df-convert\" onclick=\"convertToInteractive('df-7762fbc3-612b-4e79-88c4-e1c6f025b2e2')\"\n",
              "              title=\"Convert this dataframe to an interactive table.\"\n",
              "              style=\"display:none;\">\n",
              "\n",
              "  <svg xmlns=\"http://www.w3.org/2000/svg\" height=\"24px\"viewBox=\"0 0 24 24\"\n",
              "       width=\"24px\">\n",
              "    <path d=\"M0 0h24v24H0V0z\" fill=\"none\"/>\n",
              "    <path d=\"M18.56 5.44l.94 2.06.94-2.06 2.06-.94-2.06-.94-.94-2.06-.94 2.06-2.06.94zm-11 1L8.5 8.5l.94-2.06 2.06-.94-2.06-.94L8.5 2.5l-.94 2.06-2.06.94zm10 10l.94 2.06.94-2.06 2.06-.94-2.06-.94-.94-2.06-.94 2.06-2.06.94z\"/><path d=\"M17.41 7.96l-1.37-1.37c-.4-.4-.92-.59-1.43-.59-.52 0-1.04.2-1.43.59L10.3 9.45l-7.72 7.72c-.78.78-.78 2.05 0 2.83L4 21.41c.39.39.9.59 1.41.59.51 0 1.02-.2 1.41-.59l7.78-7.78 2.81-2.81c.8-.78.8-2.07 0-2.86zM5.41 20L4 18.59l7.72-7.72 1.47 1.35L5.41 20z\"/>\n",
              "  </svg>\n",
              "      </button>\n",
              "\n",
              "\n",
              "\n",
              "    <div id=\"df-390b7f55-dba7-4857-b799-4d5034cfa581\">\n",
              "      <button class=\"colab-df-quickchart\" onclick=\"quickchart('df-390b7f55-dba7-4857-b799-4d5034cfa581')\"\n",
              "              title=\"Suggest charts.\"\n",
              "              style=\"display:none;\">\n",
              "\n",
              "<svg xmlns=\"http://www.w3.org/2000/svg\" height=\"24px\"viewBox=\"0 0 24 24\"\n",
              "     width=\"24px\">\n",
              "    <g>\n",
              "        <path d=\"M19 3H5c-1.1 0-2 .9-2 2v14c0 1.1.9 2 2 2h14c1.1 0 2-.9 2-2V5c0-1.1-.9-2-2-2zM9 17H7v-7h2v7zm4 0h-2V7h2v10zm4 0h-2v-4h2v4z\"/>\n",
              "    </g>\n",
              "</svg>\n",
              "      </button>\n",
              "    </div>\n",
              "\n",
              "<style>\n",
              "  .colab-df-quickchart {\n",
              "    background-color: #E8F0FE;\n",
              "    border: none;\n",
              "    border-radius: 50%;\n",
              "    cursor: pointer;\n",
              "    display: none;\n",
              "    fill: #1967D2;\n",
              "    height: 32px;\n",
              "    padding: 0 0 0 0;\n",
              "    width: 32px;\n",
              "  }\n",
              "\n",
              "  .colab-df-quickchart:hover {\n",
              "    background-color: #E2EBFA;\n",
              "    box-shadow: 0px 1px 2px rgba(60, 64, 67, 0.3), 0px 1px 3px 1px rgba(60, 64, 67, 0.15);\n",
              "    fill: #174EA6;\n",
              "  }\n",
              "\n",
              "  [theme=dark] .colab-df-quickchart {\n",
              "    background-color: #3B4455;\n",
              "    fill: #D2E3FC;\n",
              "  }\n",
              "\n",
              "  [theme=dark] .colab-df-quickchart:hover {\n",
              "    background-color: #434B5C;\n",
              "    box-shadow: 0px 1px 3px 1px rgba(0, 0, 0, 0.15);\n",
              "    filter: drop-shadow(0px 1px 2px rgba(0, 0, 0, 0.3));\n",
              "    fill: #FFFFFF;\n",
              "  }\n",
              "</style>\n",
              "\n",
              "    <script>\n",
              "      async function quickchart(key) {\n",
              "        const containerElement = document.querySelector('#' + key);\n",
              "        const charts = await google.colab.kernel.invokeFunction(\n",
              "            'suggestCharts', [key], {});\n",
              "      }\n",
              "    </script>\n",
              "\n",
              "      <script>\n",
              "\n",
              "function displayQuickchartButton(domScope) {\n",
              "  let quickchartButtonEl =\n",
              "    domScope.querySelector('#df-390b7f55-dba7-4857-b799-4d5034cfa581 button.colab-df-quickchart');\n",
              "  quickchartButtonEl.style.display =\n",
              "    google.colab.kernel.accessAllowed ? 'block' : 'none';\n",
              "}\n",
              "\n",
              "        displayQuickchartButton(document);\n",
              "      </script>\n",
              "      <style>\n",
              "    .colab-df-container {\n",
              "      display:flex;\n",
              "      flex-wrap:wrap;\n",
              "      gap: 12px;\n",
              "    }\n",
              "\n",
              "    .colab-df-convert {\n",
              "      background-color: #E8F0FE;\n",
              "      border: none;\n",
              "      border-radius: 50%;\n",
              "      cursor: pointer;\n",
              "      display: none;\n",
              "      fill: #1967D2;\n",
              "      height: 32px;\n",
              "      padding: 0 0 0 0;\n",
              "      width: 32px;\n",
              "    }\n",
              "\n",
              "    .colab-df-convert:hover {\n",
              "      background-color: #E2EBFA;\n",
              "      box-shadow: 0px 1px 2px rgba(60, 64, 67, 0.3), 0px 1px 3px 1px rgba(60, 64, 67, 0.15);\n",
              "      fill: #174EA6;\n",
              "    }\n",
              "\n",
              "    [theme=dark] .colab-df-convert {\n",
              "      background-color: #3B4455;\n",
              "      fill: #D2E3FC;\n",
              "    }\n",
              "\n",
              "    [theme=dark] .colab-df-convert:hover {\n",
              "      background-color: #434B5C;\n",
              "      box-shadow: 0px 1px 3px 1px rgba(0, 0, 0, 0.15);\n",
              "      filter: drop-shadow(0px 1px 2px rgba(0, 0, 0, 0.3));\n",
              "      fill: #FFFFFF;\n",
              "    }\n",
              "  </style>\n",
              "\n",
              "      <script>\n",
              "        const buttonEl =\n",
              "          document.querySelector('#df-7762fbc3-612b-4e79-88c4-e1c6f025b2e2 button.colab-df-convert');\n",
              "        buttonEl.style.display =\n",
              "          google.colab.kernel.accessAllowed ? 'block' : 'none';\n",
              "\n",
              "        async function convertToInteractive(key) {\n",
              "          const element = document.querySelector('#df-7762fbc3-612b-4e79-88c4-e1c6f025b2e2');\n",
              "          const dataTable =\n",
              "            await google.colab.kernel.invokeFunction('convertToInteractive',\n",
              "                                                     [key], {});\n",
              "          if (!dataTable) return;\n",
              "\n",
              "          const docLinkHtml = 'Like what you see? Visit the ' +\n",
              "            '<a target=\"_blank\" href=https://colab.research.google.com/notebooks/data_table.ipynb>data table notebook</a>'\n",
              "            + ' to learn more about interactive tables.';\n",
              "          element.innerHTML = '';\n",
              "          dataTable['output_type'] = 'display_data';\n",
              "          await google.colab.output.renderOutput(dataTable, element);\n",
              "          const docLink = document.createElement('div');\n",
              "          docLink.innerHTML = docLinkHtml;\n",
              "          element.appendChild(docLink);\n",
              "        }\n",
              "      </script>\n",
              "    </div>\n",
              "  </div>\n"
            ]
          },
          "metadata": {},
          "execution_count": 25
        }
      ]
    },
    {
      "cell_type": "code",
      "source": [
        "X = penguins_data.loc[:,penguins_data.columns != 'species']\n",
        "y = penguins_data.loc[:,['species']]"
      ],
      "metadata": {
        "id": "HlLYx1UKZXbb"
      },
      "execution_count": 26,
      "outputs": []
    },
    {
      "cell_type": "code",
      "source": [
        "y_enc = LabelEncoder().fit_transform(y)\n",
        "# Converting the label into a matrix form\n",
        "y_label = tf.keras.utils.to_categorical(y_enc)"
      ],
      "metadata": {
        "colab": {
          "base_uri": "https://localhost:8080/"
        },
        "id": "nKhP7lJJZZ1c",
        "outputId": "599951cd-e1ff-43f8-f30a-1f15136dc6ca"
      },
      "execution_count": 27,
      "outputs": [
        {
          "output_type": "stream",
          "name": "stderr",
          "text": [
            "/usr/local/lib/python3.10/dist-packages/sklearn/preprocessing/_label.py:116: DataConversionWarning: A column-vector y was passed when a 1d array was expected. Please change the shape of y to (n_samples, ), for example using ravel().\n",
            "  y = column_or_1d(y, warn=True)\n"
          ]
        }
      ]
    },
    {
      "cell_type": "code",
      "source": [
        "X_train, X_test, y_train, y_test = train_test_split(X, y_label, test_size=0.3)"
      ],
      "metadata": {
        "id": "YqWcu1-2ZcTV"
      },
      "execution_count": 28,
      "outputs": []
    },
    {
      "cell_type": "code",
      "source": [
        "print(f\"Train shape : {X_train.shape}, Y Train : {y_train.shape}\")"
      ],
      "metadata": {
        "colab": {
          "base_uri": "https://localhost:8080/"
        },
        "id": "ytkoeJmmZedz",
        "outputId": "3681e12d-2264-49d8-e314-79d7fcd73ecf"
      },
      "execution_count": 29,
      "outputs": [
        {
          "output_type": "stream",
          "name": "stdout",
          "text": [
            "Train shape : (233, 9), Y Train : (233, 3)\n"
          ]
        }
      ]
    },
    {
      "cell_type": "code",
      "source": [
        "def get_model():\n",
        "  model = Sequential([\n",
        "    keras.layers.Input(shape=X_train.shape[1:]),\n",
        "    keras.layers.BatchNormalization(),\n",
        "    keras.layers.Dense(500, activation='relu'),\n",
        "    keras.layers.Dense(200, activation='relu',),\n",
        "    keras.layers.Dense(3, activation='softmax')\n",
        "  ])\n",
        "  return model"
      ],
      "metadata": {
        "id": "v1qq4uhVZhGw"
      },
      "execution_count": 30,
      "outputs": []
    },
    {
      "cell_type": "code",
      "source": [
        "model = get_model()"
      ],
      "metadata": {
        "id": "hKBVv19wZw5q"
      },
      "execution_count": 31,
      "outputs": []
    },
    {
      "cell_type": "code",
      "source": [
        "# Compile the model\n",
        "model.compile(optimizer='adam',\n",
        " loss=keras.losses.CategoricalCrossentropy(),\n",
        " metrics=['accuracy'])"
      ],
      "metadata": {
        "id": "BCJLqY5vZzLO"
      },
      "execution_count": 32,
      "outputs": []
    },
    {
      "cell_type": "code",
      "source": [
        "model.summary()"
      ],
      "metadata": {
        "colab": {
          "base_uri": "https://localhost:8080/"
        },
        "id": "gdYK0vkdZ2A7",
        "outputId": "4700bdbb-95e3-4712-d364-71e8bae83368"
      },
      "execution_count": 33,
      "outputs": [
        {
          "output_type": "stream",
          "name": "stdout",
          "text": [
            "Model: \"sequential\"\n",
            "_________________________________________________________________\n",
            " Layer (type)                Output Shape              Param #   \n",
            "=================================================================\n",
            " batch_normalization (BatchN  (None, 9)                36        \n",
            " ormalization)                                                   \n",
            "                                                                 \n",
            " dense (Dense)               (None, 500)               5000      \n",
            "                                                                 \n",
            " dense_1 (Dense)             (None, 200)               100200    \n",
            "                                                                 \n",
            " dense_2 (Dense)             (None, 3)                 603       \n",
            "                                                                 \n",
            "=================================================================\n",
            "Total params: 105,839\n",
            "Trainable params: 105,821\n",
            "Non-trainable params: 18\n",
            "_________________________________________________________________\n"
          ]
        }
      ]
    },
    {
      "cell_type": "code",
      "source": [
        "history = model.fit(X_train, y_train, epochs=30, validation_data=(X_test, y_test), verbose=1)"
      ],
      "metadata": {
        "colab": {
          "base_uri": "https://localhost:8080/"
        },
        "id": "Dq4yZVktZ4ci",
        "outputId": "e1316855-ba4b-4cc9-a08e-c0b056cdeed0"
      },
      "execution_count": 34,
      "outputs": [
        {
          "output_type": "stream",
          "name": "stdout",
          "text": [
            "Epoch 1/30\n",
            "8/8 [==============================] - 1s 44ms/step - loss: 0.6563 - accuracy: 0.8197 - val_loss: 12.1199 - val_accuracy: 0.4200\n",
            "Epoch 2/30\n",
            "8/8 [==============================] - 0s 11ms/step - loss: 0.1720 - accuracy: 0.9785 - val_loss: 13.2720 - val_accuracy: 0.4200\n",
            "Epoch 3/30\n",
            "8/8 [==============================] - 0s 12ms/step - loss: 0.0720 - accuracy: 0.9828 - val_loss: 10.9088 - val_accuracy: 0.4200\n",
            "Epoch 4/30\n",
            "8/8 [==============================] - 0s 10ms/step - loss: 0.0525 - accuracy: 0.9828 - val_loss: 7.9142 - val_accuracy: 0.4400\n",
            "Epoch 5/30\n",
            "8/8 [==============================] - 0s 9ms/step - loss: 0.0276 - accuracy: 0.9914 - val_loss: 6.2839 - val_accuracy: 0.6300\n",
            "Epoch 6/30\n",
            "8/8 [==============================] - 0s 10ms/step - loss: 0.0303 - accuracy: 0.9914 - val_loss: 5.8419 - val_accuracy: 0.6300\n",
            "Epoch 7/30\n",
            "8/8 [==============================] - 0s 10ms/step - loss: 0.0153 - accuracy: 0.9957 - val_loss: 6.4340 - val_accuracy: 0.6300\n",
            "Epoch 8/30\n",
            "8/8 [==============================] - 0s 11ms/step - loss: 0.0163 - accuracy: 0.9871 - val_loss: 6.0563 - val_accuracy: 0.6300\n",
            "Epoch 9/30\n",
            "8/8 [==============================] - 0s 9ms/step - loss: 0.0291 - accuracy: 0.9914 - val_loss: 5.0027 - val_accuracy: 0.6300\n",
            "Epoch 10/30\n",
            "8/8 [==============================] - 0s 11ms/step - loss: 0.0325 - accuracy: 0.9914 - val_loss: 4.0944 - val_accuracy: 0.6200\n",
            "Epoch 11/30\n",
            "8/8 [==============================] - 0s 10ms/step - loss: 0.0244 - accuracy: 0.9871 - val_loss: 3.3423 - val_accuracy: 0.6300\n",
            "Epoch 12/30\n",
            "8/8 [==============================] - 0s 11ms/step - loss: 0.0400 - accuracy: 0.9828 - val_loss: 3.1123 - val_accuracy: 0.6400\n",
            "Epoch 13/30\n",
            "8/8 [==============================] - 0s 9ms/step - loss: 0.0115 - accuracy: 1.0000 - val_loss: 3.0724 - val_accuracy: 0.6400\n",
            "Epoch 14/30\n",
            "8/8 [==============================] - 0s 11ms/step - loss: 0.0135 - accuracy: 0.9957 - val_loss: 3.1009 - val_accuracy: 0.6400\n",
            "Epoch 15/30\n",
            "8/8 [==============================] - 0s 9ms/step - loss: 0.0281 - accuracy: 0.9871 - val_loss: 2.5757 - val_accuracy: 0.6400\n",
            "Epoch 16/30\n",
            "8/8 [==============================] - 0s 10ms/step - loss: 0.0171 - accuracy: 0.9914 - val_loss: 1.8182 - val_accuracy: 0.6500\n",
            "Epoch 17/30\n",
            "8/8 [==============================] - 0s 8ms/step - loss: 0.0349 - accuracy: 0.9914 - val_loss: 1.7005 - val_accuracy: 0.6500\n",
            "Epoch 18/30\n",
            "8/8 [==============================] - 0s 11ms/step - loss: 0.0501 - accuracy: 0.9871 - val_loss: 1.3079 - val_accuracy: 0.6700\n",
            "Epoch 19/30\n",
            "8/8 [==============================] - 0s 10ms/step - loss: 0.0187 - accuracy: 0.9871 - val_loss: 0.8529 - val_accuracy: 0.7800\n",
            "Epoch 20/30\n",
            "8/8 [==============================] - 0s 9ms/step - loss: 0.0189 - accuracy: 0.9914 - val_loss: 0.6009 - val_accuracy: 0.7900\n",
            "Epoch 21/30\n",
            "8/8 [==============================] - 0s 9ms/step - loss: 0.0147 - accuracy: 1.0000 - val_loss: 0.8135 - val_accuracy: 0.7900\n",
            "Epoch 22/30\n",
            "8/8 [==============================] - 0s 11ms/step - loss: 0.0329 - accuracy: 0.9871 - val_loss: 0.7412 - val_accuracy: 0.8000\n",
            "Epoch 23/30\n",
            "8/8 [==============================] - 0s 10ms/step - loss: 0.0316 - accuracy: 0.9871 - val_loss: 0.3198 - val_accuracy: 0.8700\n",
            "Epoch 24/30\n",
            "8/8 [==============================] - 0s 10ms/step - loss: 0.0192 - accuracy: 0.9914 - val_loss: 0.2400 - val_accuracy: 0.8700\n",
            "Epoch 25/30\n",
            "8/8 [==============================] - 0s 8ms/step - loss: 0.0216 - accuracy: 0.9871 - val_loss: 0.2075 - val_accuracy: 0.9000\n",
            "Epoch 26/30\n",
            "8/8 [==============================] - 0s 9ms/step - loss: 0.0188 - accuracy: 0.9914 - val_loss: 0.1665 - val_accuracy: 0.9200\n",
            "Epoch 27/30\n",
            "8/8 [==============================] - 0s 9ms/step - loss: 0.0208 - accuracy: 0.9914 - val_loss: 0.1162 - val_accuracy: 0.9500\n",
            "Epoch 28/30\n",
            "8/8 [==============================] - 0s 9ms/step - loss: 0.0088 - accuracy: 1.0000 - val_loss: 0.0666 - val_accuracy: 0.9700\n",
            "Epoch 29/30\n",
            "8/8 [==============================] - 0s 10ms/step - loss: 0.0178 - accuracy: 0.9871 - val_loss: 0.0292 - val_accuracy: 0.9900\n",
            "Epoch 30/30\n",
            "8/8 [==============================] - 0s 11ms/step - loss: 0.0131 - accuracy: 0.9957 - val_loss: 0.0175 - val_accuracy: 1.0000\n"
          ]
        }
      ]
    },
    {
      "cell_type": "code",
      "source": [
        "model.evaluate(X_test, y_test)"
      ],
      "metadata": {
        "colab": {
          "base_uri": "https://localhost:8080/"
        },
        "id": "BlY3lsfsZ-1h",
        "outputId": "48f7bb96-d450-4f18-dc2d-2a1e6b857d42"
      },
      "execution_count": 35,
      "outputs": [
        {
          "output_type": "stream",
          "name": "stdout",
          "text": [
            "4/4 [==============================] - 0s 3ms/step - loss: 0.0175 - accuracy: 1.0000\n"
          ]
        },
        {
          "output_type": "execute_result",
          "data": {
            "text/plain": [
              "[0.017514299601316452, 1.0]"
            ]
          },
          "metadata": {},
          "execution_count": 35
        }
      ]
    },
    {
      "cell_type": "markdown",
      "source": [
        "##Performance Monitor"
      ],
      "metadata": {
        "id": "Shtqtdoubotm"
      }
    },
    {
      "cell_type": "code",
      "source": [
        "pd.DataFrame(history.history).plot(figsize=(10,6))\n",
        "plt.grid(True)\n",
        "plt.gca().set_ylim(0, 1)\n",
        "plt.show()"
      ],
      "metadata": {
        "colab": {
          "base_uri": "https://localhost:8080/",
          "height": 528
        },
        "id": "1IH2sv25aYc7",
        "outputId": "88223bbe-2c00-42ac-dec1-4fcb20e34ab0"
      },
      "execution_count": 36,
      "outputs": [
        {
          "output_type": "display_data",
          "data": {
            "text/plain": [
              "<Figure size 1000x600 with 1 Axes>"
            ],
            "image/png": "[encoded data removed]"
          },
          "metadata": {}
        }
      ]
    }
  ]
}